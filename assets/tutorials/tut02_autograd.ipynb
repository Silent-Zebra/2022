{
  "cells": [
    {
      "cell_type": "markdown",
      "metadata": {
        "id": "T1cOtLH2E3ll"
      },
      "source": [
        "# CSC413 - Tutorial 2"
      ]
    },
    {
      "cell_type": "markdown",
      "metadata": {
        "id": "6x2gZAiSE3lo"
      },
      "source": [
        "## Tutorial overview\n",
        "\n",
        "- Part 1: Interactive notebooks\n",
        "\n",
        "- Part 2: Autograd and PyTorch\n",
        "\n",
        "- Part 3: PyTorch models (with increasing levels of complexity and abstraction)"
      ]
    },
    {
      "cell_type": "markdown",
      "metadata": {
        "id": "h0V9uW9mE3lp"
      },
      "source": [
        "##  Part 1: Interactive notebooks\n",
        "\n",
        "### Overview\n",
        "\n",
        "- Keep documentation, code, and outputs in the same file.\n",
        "\n",
        "- Many different implementations (e.g. Jupyter, Google Colab, Zeppelin, etc.)\n",
        "\n",
        "- Many different languages (e.g. Python, C++ (xeus), Scala, etc.)\n",
        "\n",
        "- Excute your code block by block: easy to prototype and debug\n",
        "\n",
        "- Widely used in data science project\n",
        "\n",
        "### Google Colab\n",
        "\n",
        "- Hosted interactive notebooks. \n",
        "\n",
        "- Pros\n",
        "\n",
        "  - Easy to use and share. \n",
        "  \n",
        "  - Can get a free GPU or TPU. (Make sure to select a runtime with a GPU)\n",
        "\n",
        "- You can complete all the programming assignments on Colab.\n",
        "\n",
        "### Jupyter notebooks / lab\n",
        "\n",
        "- Run on your own server (GPU/CPU).\n",
        "\n",
        "- Pros\n",
        "\n",
        "  - Local\n",
        "  \n",
        "  - Customizable interface (e.g., Shortcuts, Plugins, Templates)\n",
        "\n",
        "  - Easy to call your own library\n",
        "\n"
      ]
    },
    {
      "cell_type": "markdown",
      "metadata": {
        "id": "oW6E9VvcmYpd"
      },
      "source": [
        "## Part 2.1: Automatic differentiation\n",
        "\n",
        "- In class, we have seen how the backpropagation algorithm could be used to\n",
        "compute gradients for basically any neural net architecture, as long as all the individual pieces of the computation are differentiable.\n",
        "\n",
        "- However, implementing backprop manually is like writing assembly language:\n",
        "you need to apply chain rule to each node in your computation graph. \n",
        "\n",
        "- You may notice that the entire procedure is mechanical. Can we write a program to build the computation graph and apply the backprop updates? Yes, it is exactly the autodiff engine does.\n",
        "\n"
      ]
    },
    {
      "cell_type": "markdown",
      "source": [
        "### Confusion concepts\n",
        "\n",
        "- **Backpropagation**: the mathematical algorithm we use to compute the gradient\n",
        "\n",
        "- **Automatic differentiation** (AutoDiff): any software that implements backpropagation\n",
        "  - Examples: **Autograd**, TensorFlow, PyTorch, Jax"
      ],
      "metadata": {
        "id": "G4hx7YavysiW"
      }
    },
    {
      "cell_type": "markdown",
      "source": [
        "### Approaches for Computing Derivatives\n",
        "\n",
        "- To understand why we really need Autodiff, we may want to contrast it with several different approaches for computing derivatives.\n",
        "\n",
        "- **Symbolic differentiation:** manipulate the mathematical expressions to get derivatives\n",
        "    - Takes a math expression and returns a math expression: $f(x) = x^2 \\rightarrow \\frac{df(x)}{dx} = 2x$\n",
        "    - Used in Mathematica, Maple, SymPy, etc.\n",
        "\n",
        "- **Numeric differentiation:** Approximating derivatives by finite differences:\n",
        "$$\n",
        "\\frac{\\partial}{\\partial x_i} f(x_1, \\dots, x_N) = \\lim_{h \\to 0} \\frac{f(x_1, \\dots, x_i + h, \\dots, x_N) - f(x_1, \\dots, x_i - h, \\dots, x_N)}{2h}\n",
        "$$\n",
        "\n",
        "- **Automatic differentiation:** Write a program that efficiently computes the derivatives.\n",
        "    - Reverse Mode AD: A method to get exact derivatives efficiently, by storing information as you go forward that you can reuse as you go backwards\n",
        "    - This is efficient for graphs with large fan-in, like most loss functions in ML. In machine learning, we have functions that have large fan-in, e.g. a neural net can have millions of parameters, that all squeeze down to one scalar that tells you how well it predicts something."
      ],
      "metadata": {
        "id": "by7nKutvyhY7"
      }
    },
    {
      "cell_type": "markdown",
      "source": [
        "### General idea for Implementation\n",
        "* Create a \"tape\" data structure that tracks the operations performed in computing a function.\n",
        "* Overload primitives to:\n",
        "    - Add themselves to the tape when called.\n",
        "    - Compute gradients with respect to their local inputs.\n",
        "* _Forward pass_ computes the function, and adds operations to the tape.\n",
        "* _Backward pass_ accumulates the local gradients using the chain rule."
      ],
      "metadata": {
        "id": "llvmUF-pyhce"
      }
    },
    {
      "cell_type": "markdown",
      "metadata": {
        "id": "0JxunitHmYpf"
      },
      "source": [
        "### Autograd\n",
        "\n",
        "* [Autograd](https://github.com/HIPS/autograd) is a Python package for automatic differentiation.\n",
        "* To install Autograd:\n",
        "                pip install autograd\n",
        "* There are a lot of great [examples](https://github.com/HIPS/autograd/tree/master/examples) provided with the source code.\n",
        "\n",
        "### What can Autograd do?\n",
        "\n",
        "From the Autograd Github repository:\n",
        "\n",
        "* Autograd can automatically differentiate native Python and Numpy code.\n",
        "* It can handle a large subset of Python's features, including loops, conditional statements (if/else), recursion and closures\n",
        "* It can also compute higher-order derivatives\n",
        "* It uses reverse-mode differentiation (a.k.a. backpropagation) so it can efficiently take gradients of scalar-valued functions with respect to array-valued arguments.\n",
        "* It constructs a computation graph _implicitly_, by tracking the sequence of operations that have been performed during the execution of a program.\n",
        "\n",
        "### Learn more about Automatic differentiation:\n",
        "\n",
        "- Roger's Notes on Automatic Differentiation.\n",
        "- Ryan Adams' talk: https://www.youtube.com/watch?v=sq2gPzlrM0g\n",
        "- Backpropagation notes from Stanford's CS231n: http://cs231n.github.io/optimization-2/\n",
        "- Autograd Github Repository (contains a tutorial and examples): https://github.com/HIPS/autograd"
      ]
    },
    {
      "cell_type": "markdown",
      "metadata": {
        "id": "1kDjpkTqmYph"
      },
      "source": [
        "### Autograd basic usage"
      ]
    },
    {
      "cell_type": "code",
      "execution_count": 1,
      "metadata": {
        "id": "0F3euyjuE3ls"
      },
      "outputs": [],
      "source": [
        "import autograd.numpy as jnp  # Import thinly-wrapped numpy\n",
        "from autograd import grad  # Basicallly the only autograd function you need"
      ]
    },
    {
      "cell_type": "code",
      "execution_count": 2,
      "metadata": {
        "colab": {
          "base_uri": "https://localhost:8080/"
        },
        "id": "szDksM6wmYpn",
        "outputId": "d6432d50-8608-4f52-cc81-e22dbf4e6384"
      },
      "outputs": [
        {
          "output_type": "stream",
          "name": "stdout",
          "text": [
            "0.39322386648296376\n",
            "0.39322386636453377\n"
          ]
        }
      ],
      "source": [
        "# Define a function like normal, using Python and (autograd's) NumPy\n",
        "def tanh(x):\n",
        "    y = jnp.exp(-x)\n",
        "    return (1.0 - y) / (1.0 + y)\n",
        "\n",
        "\n",
        "# Create a *function* that computes the gradient of tanh\n",
        "grad_tanh = grad(tanh)\n",
        "\n",
        "# Evaluate the gradient at x = 1.0\n",
        "print(grad_tanh(1.0))\n",
        "\n",
        "# Compare to numeric gradient computed using finite differences\n",
        "print((tanh(1.0001) - tanh(0.9999)) / 0.0002)"
      ]
    },
    {
      "cell_type": "markdown",
      "metadata": {
        "id": "SDGKdlknJMuK"
      },
      "source": [
        "## Part 2.2: PyTorch\n",
        "\n",
        "- Makes it possible to work with arrays and tensors efficiently in Python (wraps NumPy for CPU tensors).\n",
        "\n",
        "- Adds GPU support.\n",
        "\n",
        "- Adds automatic differentiation.\n",
        "\n",
        "- Provides a high-level abstractions for working with neural networks."
      ]
    },
    {
      "cell_type": "code",
      "execution_count": 3,
      "metadata": {
        "id": "xHx0nbsrE3lv"
      },
      "outputs": [],
      "source": [
        "import matplotlib.pyplot as plt\n",
        "import numpy as np\n",
        "import numpy.random as npr\n",
        "import torch\n",
        "\n",
        "%matplotlib inline"
      ]
    },
    {
      "cell_type": "markdown",
      "metadata": {
        "id": "iYkp3o3zE3lw"
      },
      "source": [
        "### PyTorch — API\n",
        "\n",
        "See: https://pytorch.org/docs/stable/index.html (especially `torch`, `torch.nn`, `torch.nn.functional`, and `torch.Tensor`)."
      ]
    },
    {
      "cell_type": "code",
      "execution_count": 4,
      "metadata": {
        "id": "8JrqCxaFE3lw",
        "outputId": "cba1ecc4-ed1d-4d3c-b613-1ff8469c5f92",
        "colab": {
          "base_uri": "https://localhost:8080/"
        }
      },
      "outputs": [
        {
          "output_type": "execute_result",
          "data": {
            "text/plain": [
              "tensor([1., 2., 3., 4.])"
            ]
          },
          "metadata": {},
          "execution_count": 4
        }
      ],
      "source": [
        "x = torch.tensor([1.0, 2.0, 3.0, 4.0])\n",
        "\n",
        "x"
      ]
    },
    {
      "cell_type": "code",
      "execution_count": 5,
      "metadata": {
        "id": "ReldVOHaE3lw",
        "outputId": "b4f621e7-8cbc-4811-ed12-43b906688cab",
        "colab": {
          "base_uri": "https://localhost:8080/"
        }
      },
      "outputs": [
        {
          "output_type": "execute_result",
          "data": {
            "text/plain": [
              "tensor([100., 200., 300.,   4.])"
            ]
          },
          "metadata": {},
          "execution_count": 5
        }
      ],
      "source": [
        "x_np = np.array([1.0, 2.0, 3.0, 4.0], dtype=np.float32)\n",
        "x = torch.from_numpy(x_np)\n",
        "\n",
        "# Torch abstracts over NumPy but uses a NumPy-compatible representation under the hood\n",
        "x_np[0] = 100.0\n",
        "x[1] = 200.0\n",
        "x.data.numpy()[2] = 300\n",
        "\n",
        "x"
      ]
    },
    {
      "cell_type": "code",
      "execution_count": 6,
      "metadata": {
        "id": "Xr-RVmWlE3lx",
        "outputId": "7d461c59-4aba-4148-9993-6a54ab876009",
        "colab": {
          "base_uri": "https://localhost:8080/"
        }
      },
      "outputs": [
        {
          "output_type": "execute_result",
          "data": {
            "text/plain": [
              "tensor([[200., 300., 400., 104.],\n",
              "        [300., 400., 500., 204.],\n",
              "        [400., 500., 600., 304.],\n",
              "        [104., 204., 304.,   8.]])"
            ]
          },
          "metadata": {},
          "execution_count": 6
        }
      ],
      "source": [
        "# Broadcasting\n",
        "x.reshape(-1, 1) + x"
      ]
    },
    {
      "cell_type": "code",
      "execution_count": 7,
      "metadata": {
        "id": "67T-w0KkE3lx",
        "outputId": "dd50e737-edfc-43a8-f68e-cf563fd5de87",
        "colab": {
          "base_uri": "https://localhost:8080/"
        }
      },
      "outputs": [
        {
          "output_type": "execute_result",
          "data": {
            "text/plain": [
              "tensor(140016.)"
            ]
          },
          "metadata": {},
          "execution_count": 7
        }
      ],
      "source": [
        "# Dot product\n",
        "x @ x.T"
      ]
    },
    {
      "cell_type": "markdown",
      "metadata": {
        "id": "Co-aXekIE3ly"
      },
      "source": [
        "### PyTorch — GPU support\n",
        "\n",
        "We can move PyTorch tensors to the GPU, which allows us to perform some computations much faster."
      ]
    },
    {
      "cell_type": "code",
      "execution_count": 8,
      "metadata": {
        "id": "Fo0IHCd0E3ly",
        "outputId": "8ae44c95-1ef7-4b38-dd35-806b11dc796e",
        "colab": {
          "base_uri": "https://localhost:8080/"
        }
      },
      "outputs": [
        {
          "output_type": "execute_result",
          "data": {
            "text/plain": [
              "device(type='cuda')"
            ]
          },
          "metadata": {},
          "execution_count": 8
        }
      ],
      "source": [
        "device = torch.device(\"cuda\" if torch.cuda.is_available() else \"cpu\")\n",
        "\n",
        "device"
      ]
    },
    {
      "cell_type": "code",
      "execution_count": 9,
      "metadata": {
        "id": "KS4O12elE3ly",
        "outputId": "2f2dff70-4f25-47bf-e6c1-a00a2c044c24",
        "colab": {
          "base_uri": "https://localhost:8080/"
        }
      },
      "outputs": [
        {
          "output_type": "execute_result",
          "data": {
            "text/plain": [
              "tensor([100., 200., 300.,   4.], device='cuda:0')"
            ]
          },
          "metadata": {},
          "execution_count": 9
        }
      ],
      "source": [
        "x = x.to(device=device)\n",
        "\n",
        "x"
      ]
    },
    {
      "cell_type": "code",
      "execution_count": 10,
      "metadata": {
        "id": "sa2rZfoNE3lz",
        "outputId": "149db54e-d15e-4f94-ad15-f82e220cba9f",
        "colab": {
          "base_uri": "https://localhost:8080/"
        }
      },
      "outputs": [
        {
          "output_type": "execute_result",
          "data": {
            "text/plain": [
              "tensor(140016., device='cuda:0')"
            ]
          },
          "metadata": {},
          "execution_count": 10
        }
      ],
      "source": [
        "x @ x.T"
      ]
    },
    {
      "cell_type": "markdown",
      "metadata": {
        "id": "lxSzk_bWE3lz"
      },
      "source": [
        "### PyTorch — Automatic differentiation\n",
        "\n",
        "PyTorch allows us to dynamically define computational graphs that can be evaluated efficently on GPUs."
      ]
    },
    {
      "cell_type": "code",
      "execution_count": 11,
      "metadata": {
        "id": "5v19hIquE3lz",
        "outputId": "0df0d160-9953-4e7c-cf24-6ef04a077ee0",
        "colab": {
          "base_uri": "https://localhost:8080/"
        }
      },
      "outputs": [
        {
          "output_type": "execute_result",
          "data": {
            "text/plain": [
              "tensor([1.])"
            ]
          },
          "metadata": {},
          "execution_count": 11
        }
      ],
      "source": [
        "data = torch.tensor([1.0])\n",
        "data"
      ]
    },
    {
      "cell_type": "code",
      "execution_count": 12,
      "metadata": {
        "id": "UgI2RgjlE3lz",
        "outputId": "3064afb9-82fa-4f05-8a2e-0629343cacd0",
        "colab": {
          "base_uri": "https://localhost:8080/"
        }
      },
      "outputs": [
        {
          "output_type": "execute_result",
          "data": {
            "text/plain": [
              "tensor([1.], requires_grad=True)"
            ]
          },
          "metadata": {},
          "execution_count": 12
        }
      ],
      "source": [
        "param = torch.tensor([1.0], requires_grad=True)\n",
        "param"
      ]
    },
    {
      "cell_type": "code",
      "execution_count": 13,
      "metadata": {
        "id": "3jOTeqZAE3l0",
        "outputId": "7f329ade-c37d-40d1-e6e6-d5c19046f3d5",
        "colab": {
          "base_uri": "https://localhost:8080/"
        }
      },
      "outputs": [
        {
          "output_type": "execute_result",
          "data": {
            "text/plain": [
              "tensor([2.], grad_fn=<AddBackward0>)"
            ]
          },
          "metadata": {},
          "execution_count": 13
        }
      ],
      "source": [
        "(data + param)"
      ]
    },
    {
      "cell_type": "markdown",
      "metadata": {
        "id": "MGHorbqkE3l0"
      },
      "source": [
        "For a more concrete example, let's work with the function:\n",
        "\n",
        "$$f(x) = x^2 + 2x + 6$$"
      ]
    },
    {
      "cell_type": "code",
      "execution_count": 14,
      "metadata": {
        "colab": {
          "base_uri": "https://localhost:8080/"
        },
        "id": "lKC3Lzwqs07E",
        "outputId": "174f0a23-da80-46fe-be55-19a7a1ab2580"
      },
      "outputs": [
        {
          "output_type": "stream",
          "name": "stdout",
          "text": [
            "tensor([30.], dtype=torch.float64, grad_fn=<AddBackward0>)\n"
          ]
        }
      ],
      "source": [
        "def f(x):\n",
        "    return x ** 2 + 2 * x + 6\n",
        "\n",
        "\n",
        "np_x = np.array([4.0])\n",
        "x = torch.from_numpy(np_x).requires_grad_(True)\n",
        "y = f(x)\n",
        "print(y)"
      ]
    },
    {
      "cell_type": "code",
      "execution_count": 15,
      "metadata": {
        "colab": {
          "base_uri": "https://localhost:8080/"
        },
        "id": "kWQJmBlytIOV",
        "outputId": "939cce10-f19b-4f21-9068-afe0ddcb005a"
      },
      "outputs": [
        {
          "output_type": "execute_result",
          "data": {
            "text/plain": [
              "tensor([10.], dtype=torch.float64)"
            ]
          },
          "metadata": {},
          "execution_count": 15
        }
      ],
      "source": [
        "y.backward()\n",
        "x.grad"
      ]
    },
    {
      "cell_type": "code",
      "execution_count": 16,
      "metadata": {
        "id": "nCdN3mtXtX-N"
      },
      "outputs": [],
      "source": [
        "np_x = np.array([5.0])\n",
        "x = torch.from_numpy(np_x).requires_grad_(True)\n",
        "y = f(x)"
      ]
    },
    {
      "cell_type": "code",
      "execution_count": 17,
      "metadata": {
        "colab": {
          "base_uri": "https://localhost:8080/"
        },
        "id": "2TWXc5gmtdrA",
        "outputId": "538488cf-ef4e-4166-8fce-b8c3173b73de"
      },
      "outputs": [
        {
          "output_type": "execute_result",
          "data": {
            "text/plain": [
              "tensor([12.], dtype=torch.float64)"
            ]
          },
          "metadata": {},
          "execution_count": 17
        }
      ],
      "source": [
        "y.backward()\n",
        "x.grad"
      ]
    },
    {
      "cell_type": "markdown",
      "metadata": {
        "id": "v60TtmvumYps"
      },
      "source": [
        "### PyTorch autodiff vs. manual gradients via staged computation\n",
        "\n",
        "In this example, we will see how a complicated computation can be written as a composition of simpler functions, and how autodiff provides a scalable strategy for computing gradients using the chain rule.\n",
        "\n",
        "Say we want to write a function to compute the gradient of the *sigmoid function*:\n",
        "$$\n",
        "\\sigma(x) = \\frac{1}{1 + e^{-x}}\n",
        "$$\n",
        "We can write $\\sigma(x)$ as a composition of several elementary functions, as $\\sigma(x) = s(c(b(a(x))))$, where:\n",
        "\n",
        "$$\n",
        "a(x) = -x\n",
        "$$\n",
        "\n",
        "$$\n",
        "b(a) = e^a\n",
        "$$\n",
        "\n",
        "$$\n",
        "c(b) = 1 + b\n",
        "$$\n",
        "\n",
        "$$\n",
        "s(c) = \\frac{1}{c}\n",
        "$$\n",
        "\n",
        "Here, we have \"staged\" the computation such that it contains several intermediate variables, each of which are basic expressions that we can easily compute the local gradients.\n",
        "\n",
        "The computation graph for this expression is shown in the figure below. \n",
        " \n",
        "![Gradient Computation Image](https://drive.google.com/uc?export=view&id=1bvdPv0MI2eM3GeobsHFsFjLrLsibuhJa)\n",
        "\n",
        "The input to this function is $x$, and the output is represented by node $s$. We wish compute the gradient of $s$ with respect to $x$, $\\frac{\\partial s}{\\partial x}$. In order to make use of our intermediate computations, we can use the chain rule as follows:\n",
        "$$\n",
        "\\frac{\\partial s}{\\partial x} = \\frac{\\partial s}{\\partial c} \\frac{\\partial c}{\\partial b} \\frac{\\partial b}{\\partial a} \\frac{\\partial a}{\\partial x}\n",
        "$$\n",
        "\n",
        "<!--\n",
        "Given a vector-to-scalar function, $\\mathbb{R}^D \\to \\mathbb{R}$, composed of a set of primitive functions\n",
        "$\\mathbb{R}^M \\to \\mathbb{R}^N$ (for various $M$, $N$), the gradient of the composition is given by the product of the gradients of the primitive functions, according to the chain rule. But the chain rule doesn’t prescribe the order in which to multiply the gradients. From the perspective of computational complexity, the order makes all the\n",
        "difference.\n",
        "-->"
      ]
    },
    {
      "cell_type": "code",
      "execution_count": 18,
      "metadata": {
        "colab": {
          "base_uri": "https://localhost:8080/"
        },
        "id": "D5RUMyRsmYpt",
        "outputId": "7bbd5d66-b2af-4b59-dd3f-8a1fada371e6"
      },
      "outputs": [
        {
          "output_type": "stream",
          "name": "stdout",
          "text": [
            "autograd: 0.10499356687068939\n",
            "manual: 0.10499357432126999\n",
            "symbolic: 0.10499362647533417\n"
          ]
        }
      ],
      "source": [
        "def sigmoid(x):\n",
        "    \"\"\"Sigmoid function reimplemented for clarity. Use `torch.sigmoid` in real life!\"\"\"\n",
        "    y = 1.0 / (1.0 + torch.exp(-x))\n",
        "    return y\n",
        "\n",
        "\n",
        "def grad_sigmoid_pytorch(x):\n",
        "    x = x.clone().requires_grad_(True)\n",
        "    y = sigmoid(x)\n",
        "    y.backward()\n",
        "    return x.grad\n",
        "\n",
        "\n",
        "def grad_sigmoid_manual(x):\n",
        "    \"\"\"Implements the gradient of the logistic sigmoid function\n",
        "    $\\sigma(x) = 1 / (1 + e^{-x})$ using staged computation\n",
        "    \"\"\"\n",
        "    # Forward pass, keeping track of intermediate values for use in the\n",
        "    # backward pass\n",
        "    a = -x  # -x in denominator\n",
        "    b = np.exp(a)  # e^{-x} in denominator\n",
        "    c = 1 + b  # 1 + e^{-x} in denominator\n",
        "    s = 1.0 / c  # Final result, 1.0 / (1 + e^{-x})\n",
        "\n",
        "    # Backward pass\n",
        "    dsdc = -1.0 / (c ** 2)\n",
        "    dsdb = dsdc * 1\n",
        "    dsda = dsdb * torch.exp(a)\n",
        "    dsdx = dsda * (-1)\n",
        "\n",
        "    return dsdx\n",
        "\n",
        "\n",
        "def grad_sigmoid_symbolic(x):\n",
        "    # Since d sigmoid(x) / dx = sigmoid(x) * (1 - sigmoid(x))\n",
        "    s = sigmoid(x)\n",
        "    dsdx = s * (1 - s)\n",
        "    return dsdx\n",
        "\n",
        "\n",
        "input_x = torch.tensor([2.0])\n",
        "\n",
        "\n",
        "# Compare the results of manual and automatic gradient functions:\n",
        "print(\"autograd:\", grad_sigmoid_pytorch(input_x).item())\n",
        "print(\"manual:\", grad_sigmoid_manual(input_x).item())\n",
        "print(\"symbolic:\", grad_sigmoid_symbolic(input_x).item())"
      ]
    },
    {
      "cell_type": "markdown",
      "metadata": {
        "id": "YTHQYM2ImYq4"
      },
      "source": [
        "### Implementing custom gradients\n",
        "\n",
        "One thing you can do is define custom gradients for your own functions. There are several reasons you might want to do this, including:\n",
        "\n",
        "1. **Speed:** You may know a faster way to compute the gradient for a specific function.\n",
        "2. **Numerical Stability**\n",
        "3. When your code depends on **external library calls**\n"
      ]
    },
    {
      "cell_type": "code",
      "execution_count": 19,
      "metadata": {
        "id": "OUC_rGWwE3l2"
      },
      "outputs": [],
      "source": [
        "class MySigmoid(torch.autograd.Function):\n",
        "    \"\"\"\n",
        "    We can implement our own custom autograd Functions by subclassing\n",
        "    torch.autograd.Function and implementing the forward and backward passes\n",
        "    which operate on Tensors.\n",
        "    \"\"\"\n",
        "\n",
        "    @staticmethod\n",
        "    def forward(ctx, input):\n",
        "        \"\"\"\n",
        "        In the forward pass we receive a Tensor containing the input and return\n",
        "        a Tensor containing the output. ctx is a context object that can be used\n",
        "        to stash information for backward computation. You can cache arbitrary\n",
        "        objects for use in the backward pass using the ctx.save_for_backward method.\n",
        "        \"\"\"\n",
        "        ans = 1.0 / (1.0 + torch.exp(-input))\n",
        "        ctx.save_for_backward(input, ans)\n",
        "        return ans\n",
        "\n",
        "    @staticmethod\n",
        "    def backward(ctx, grad_output):\n",
        "        \"\"\"\n",
        "        In the backward pass we receive a Tensor containing the gradient of the loss\n",
        "        with respect to the output, and we need to compute the gradient of the loss\n",
        "        with respect to the input.\n",
        "        \"\"\"\n",
        "        input, ans = ctx.saved_tensors\n",
        "        return grad_output * ans * (1 - ans)"
      ]
    },
    {
      "cell_type": "code",
      "execution_count": 20,
      "metadata": {
        "id": "ydX0HQOJE3l2",
        "outputId": "5195c3d0-7bdd-47a8-a05f-77be8158fd2c",
        "colab": {
          "base_uri": "https://localhost:8080/"
        }
      },
      "outputs": [
        {
          "output_type": "execute_result",
          "data": {
            "text/plain": [
              "0.10499362647533417"
            ]
          },
          "metadata": {},
          "execution_count": 20
        }
      ],
      "source": [
        "my_sigmoid = MySigmoid.apply\n",
        "\n",
        "x = input_x.clone().requires_grad_(True)\n",
        "y = my_sigmoid(x)\n",
        "y.backward()\n",
        "x.grad.item()"
      ]
    },
    {
      "cell_type": "markdown",
      "metadata": {
        "id": "I-ePOja_mYrA"
      },
      "source": [
        "## Part 3.1 Basic models\n",
        "\n",
        "The next three sections of the notebook show examples of using pytorch in the context of three problems:\n",
        "\n",
        "1. **1-D linear regression**, where we try to fit a model to a function $y = wx + b$\n",
        "2. **Linear regression using a polynomial feature map**, to fit a function of the form $y = w_0 + w_1 x + w_2 x^2 + \\dots + w_M x^M$\n",
        "3. **Nonlinear regression using a neural network**"
      ]
    },
    {
      "cell_type": "markdown",
      "metadata": {
        "id": "JBs8UkXfmYrC"
      },
      "source": [
        "### Linear Regression"
      ]
    },
    {
      "cell_type": "markdown",
      "metadata": {
        "id": "cLHB3U0BmYrD"
      },
      "source": [
        "#### Review\n",
        "\n",
        "We are given a set of data points $\\{ (x_1, t_1), (x_2, t_2), \\dots, (x_N, t_N) \\}$, where each point $(x_i, t_i)$ consists of an *input value* $x_i$ and a *target value* $t_i$. \n",
        "\n",
        "The **model** we use is:\n",
        "$$\n",
        "y_i = wx_i + b\n",
        "$$\n",
        "\n",
        "We want each predicted value $y_i$ to be close to the ground truth value $t_i$. In linear regression, we use squared error to quantify the disagreement between $y_i$ and $t_i$. The **loss function** for a single example is:\n",
        "$$\n",
        "\\mathcal{L}(y_i,t_i) = \\frac{1}{2} (y_i - t_i)^2\n",
        "$$\n",
        "\n",
        "The **cost function** is the loss averaged over all the training examples:\n",
        "$$\n",
        "\\mathcal{E}(w,b) = \\frac{1}{N} \\sum_{i=1}^N \\mathcal{L}(y_i, t_i) = \\frac{1}{N} \\sum_{i=1}^N \\frac{1}{2} \\left(wx_i + b - t_i \\right)^2\n",
        "$$"
      ]
    },
    {
      "cell_type": "code",
      "metadata": {
        "id": "dOjH3W31ITDU"
      },
      "source": [
        "#### Data generation"
      ],
      "execution_count": 21,
      "outputs": []
    },
    {
      "cell_type": "markdown",
      "metadata": {
        "id": "b-BhEYZOmYrJ"
      },
      "source": [
        "We generate a synthetic dataset $\\{ (x_i, t_i) \\}$ by first taking the $x_i$ to be linearly spaced in the range $[0, 10]$ and generating the corresponding value of $t_i$ using the following equation (where $w = 4$ and $b=10$):\n",
        "$$\n",
        "t_i = 4 x_i + 10 + \\epsilon\n",
        "$$\n",
        "\n",
        "Here, $\\epsilon \\sim \\mathcal{N}(0, 2)$ (that is, $\\epsilon$ is drawn from a Gaussian distribution with mean 0 and variance 2). This introduces some random fluctuation in the data, to mimic real data that has an underlying regularity, but for which individual observations are corrupted by random noise."
      ]
    },
    {
      "cell_type": "code",
      "execution_count": 22,
      "metadata": {
        "colab": {
          "base_uri": "https://localhost:8080/",
          "height": 265
        },
        "id": "mOLDubBYmYrK",
        "outputId": "2d361858-2cb1-47b9-ee4d-e29411acc7fe"
      },
      "outputs": [
        {
          "output_type": "display_data",
          "data": {
            "image/png": "[encoded data removed]",
            "text/plain": [
              "<Figure size 432x288 with 1 Axes>"
            ]
          },
          "metadata": {
            "needs_background": "light"
          }
        }
      ],
      "source": [
        "# In our synthetic data, we have w = 4 and b = 10\n",
        "N = 100  # Number of training data points\n",
        "x = np.linspace(0, 10, N)\n",
        "\n",
        "t = 4 * x + 10 + npr.normal(0, 2, x.shape[0])\n",
        "plt.plot(x, t, \"r.\")\n",
        "\n",
        "x = torch.from_numpy(x)\n",
        "t = torch.from_numpy(t)"
      ]
    },
    {
      "cell_type": "code",
      "execution_count": 23,
      "metadata": {
        "colab": {
          "base_uri": "https://localhost:8080/"
        },
        "id": "DWKVaOrimYrO",
        "outputId": "921572ad-6964-41f4-b980-748e3a2fdcb3"
      },
      "outputs": [
        {
          "output_type": "stream",
          "name": "stdout",
          "text": [
            "i: 0     loss: 807.1504\n",
            "i: 100   loss: 7.7296\n",
            "i: 200   loss: 5.6256\n",
            "i: 300   loss: 4.3457\n",
            "i: 400   loss: 3.5671\n",
            "i: 500   loss: 3.0934\n",
            "i: 600   loss: 2.8052\n",
            "i: 700   loss: 2.6299\n",
            "i: 800   loss: 2.5233\n",
            "i: 900   loss: 2.4584\n",
            "{'w': tensor([4.1229], requires_grad=True), 'b': tensor([9.1197], requires_grad=True)}\n"
          ]
        }
      ],
      "source": [
        "# Initialize random parameters\n",
        "params = {\n",
        "    \"w\": torch.randn(1).requires_grad_(True),\n",
        "    \"b\": torch.randn(1).requires_grad_(True),\n",
        "}\n",
        "\n",
        "\n",
        "def cost(params):\n",
        "    y = params[\"w\"] * x + params[\"b\"]\n",
        "    return (1 / N) * torch.sum(0.5 * (y - t) ** 2)\n",
        "\n",
        "\n",
        "# Find the gradient of the cost function using pytorch\n",
        "num_epochs = 1000  # Number of epochs of training\n",
        "alpha = 0.01  # Learning rate\n",
        "\n",
        "for i in range(num_epochs):\n",
        "    # Evaluate the gradient of the current parameters stored in params\n",
        "    loss = cost(params)\n",
        "    loss.backward()\n",
        "\n",
        "    if i % 100 == 0:\n",
        "        print(f\"i: {i:<5d} loss: {loss.item():.4f}\")\n",
        "\n",
        "    # Update parameters w and b\n",
        "    with torch.no_grad():\n",
        "        params[\"w\"].data = params[\"w\"] - alpha * params[\"w\"].grad\n",
        "        params[\"b\"].data = params[\"b\"] - alpha * params[\"b\"].grad\n",
        "        params[\"w\"].grad.zero_()\n",
        "        params[\"b\"].grad.zero_()\n",
        "\n",
        "print(params)"
      ]
    },
    {
      "cell_type": "code",
      "execution_count": 24,
      "metadata": {
        "colab": {
          "base_uri": "https://localhost:8080/",
          "height": 282
        },
        "id": "Q6JKtls8mYrY",
        "outputId": "d754f2c9-9558-4441-aff2-a4443545af8e"
      },
      "outputs": [
        {
          "output_type": "execute_result",
          "data": {
            "text/plain": [
              "[<matplotlib.lines.Line2D at 0x7ff6041ef750>]"
            ]
          },
          "metadata": {},
          "execution_count": 24
        },
        {
          "output_type": "display_data",
          "data": {
            "image/png": "[encoded data removed]",
            "text/plain": [
              "<Figure size 432x288 with 1 Axes>"
            ]
          },
          "metadata": {
            "needs_background": "light"
          }
        }
      ],
      "source": [
        "# Plot the training data again, together with the line defined by y = wx + b\n",
        "# where w and b are our final learned parameters\n",
        "plt.plot(x, t, \"r.\")\n",
        "plt.plot([0, 10], [params[\"b\"], params[\"w\"] * 10 + params[\"b\"]], \"b-\")"
      ]
    },
    {
      "cell_type": "markdown",
      "metadata": {
        "id": "UMf3GbOhmYrc"
      },
      "source": [
        "### Linear regression with a feature mapping"
      ]
    },
    {
      "cell_type": "markdown",
      "metadata": {
        "id": "I6sur0MDmYrd"
      },
      "source": [
        "In this example we will fit a polynomial using linear regression with a polynomial feature mapping.\n",
        "The target function is:\n",
        "\n",
        "$$\n",
        "t = x^4 - 10 x^2 + 10 x + \\epsilon\n",
        "$$\n",
        "\n",
        "where $\\epsilon \\sim \\mathcal{N}(0, 4)$. \n",
        "\n",
        "This is an example of a _generalized linear model_, in which we perform a fixed nonlinear transformation of the inputs $\\mathbf{x} = (x_1, x_2, \\dots, x_D)$, and the model is still linear in the _parameters_. We can define a set of _feature mappings_ (also called feature functions or basis functions) $\\phi$ to implement the fixed transformations.\n",
        "\n",
        "In this case, we have $x \\in \\mathbb{R}$, and we define the feature mapping:\n",
        "$$\n",
        "\\mathbf{\\phi}(x) = \\begin{pmatrix}\\phi_1(x) \\\\ \\phi_2(x) \\\\ \\phi_3(x) \\\\ \\phi_4(x) \\end{pmatrix} = \\begin{pmatrix}1\\\\x\\\\x^2\\\\x^3\\end{pmatrix}\n",
        "$$"
      ]
    },
    {
      "cell_type": "code",
      "execution_count": 25,
      "metadata": {
        "colab": {
          "base_uri": "https://localhost:8080/",
          "height": 265
        },
        "id": "D-XKvKC4mYre",
        "outputId": "ca66c6a3-44c9-4da8-d1c2-09998051afe3"
      },
      "outputs": [
        {
          "output_type": "display_data",
          "data": {
            "image/png": "[encoded data removed]",
            "text/plain": [
              "<Figure size 432x288 with 1 Axes>"
            ]
          },
          "metadata": {
            "needs_background": "light"
          }
        }
      ],
      "source": [
        "# Generate synthetic data\n",
        "N = 100  # Number of data points\n",
        "x = np.linspace(-3, 3, N)  # Generate N values linearly-spaced between -3 and 3\n",
        "t = x ** 4 - 10 * x ** 2 + 10 * x + npr.normal(0, 4, x.shape[0])  # Generate corresponding targets\n",
        "plt.plot(x, t, \"r.\")  # Plot data points\n",
        "\n",
        "t = torch.from_numpy(t).view(-1, 1)"
      ]
    },
    {
      "cell_type": "code",
      "execution_count": 26,
      "metadata": {
        "colab": {
          "base_uri": "https://localhost:8080/"
        },
        "id": "oGgROsxlmYrk",
        "outputId": "1712300d-e19d-4a95-a289-4d30a52aa014"
      },
      "outputs": [
        {
          "output_type": "stream",
          "name": "stdout",
          "text": [
            "torch.Size([5, 1])\n",
            "i: 0     loss: 3455.6107\n",
            "i: 100   loss: 63.3798\n",
            "i: 200   loss: 50.4601\n",
            "i: 300   loss: 41.0415\n",
            "i: 400   loss: 34.1121\n",
            "i: 500   loss: 28.9586\n",
            "i: 600   loss: 25.0777\n",
            "i: 700   loss: 22.1136\n",
            "i: 800   loss: 19.8143\n",
            "i: 900   loss: 18.0011\n",
            "tensor([[-3.0477],\n",
            "        [ 4.1994],\n",
            "        [-6.5009],\n",
            "        [ 0.8642],\n",
            "        [ 0.5813]], requires_grad=True)\n"
          ]
        }
      ],
      "source": [
        "M = 4  # Degree of polynomial to fit to the data (this is a hyperparameter)\n",
        "\n",
        "feature_matrix = torch.tensor(\n",
        "    [[item ** i for i in range(M + 1)] for item in x], dtype=torch.float32\n",
        ")\n",
        "\n",
        "params = {\n",
        "    \"w\": torch.randn(M + 1, 1).requires_grad_(True),\n",
        "}\n",
        "print(params[\"w\"].shape)\n",
        "\n",
        "\n",
        "def cost(params):\n",
        "    y = torch.mm(feature_matrix, params[\"w\"])\n",
        "    return (1.0 / N) * torch.sum(0.5 * (y - t) ** 2)\n",
        "\n",
        "\n",
        "# Compute the gradient of the cost function using Autograd\n",
        "\n",
        "num_epochs = 1000\n",
        "learning_rate = 0.001\n",
        "\n",
        "# Manually implement gradient descent\n",
        "for i in range(num_epochs):\n",
        "    loss = cost(params)\n",
        "    loss.backward()\n",
        "    if i % 100 == 0:\n",
        "        print(f\"i: {i:<5d} loss: {loss.item():.4f}\")\n",
        "    with torch.no_grad():\n",
        "        params[\"w\"].data = params[\"w\"] - learning_rate * params[\"w\"].grad\n",
        "        params[\"w\"].grad.zero_()\n",
        "\n",
        "\n",
        "# Print the final learned parameters.\n",
        "print(params[\"w\"])\n",
        "w = params[\"w\"].detach().cpu().numpy()"
      ]
    },
    {
      "cell_type": "code",
      "execution_count": 27,
      "metadata": {
        "colab": {
          "base_uri": "https://localhost:8080/",
          "height": 282
        },
        "id": "CY3XajWcmYrp",
        "outputId": "55d1f426-bd2c-4401-a172-fb3316a84b2b"
      },
      "outputs": [
        {
          "output_type": "execute_result",
          "data": {
            "text/plain": [
              "[<matplotlib.lines.Line2D at 0x7ff6040e1310>]"
            ]
          },
          "metadata": {},
          "execution_count": 27
        },
        {
          "output_type": "display_data",
          "data": {
            "image/png": "[encoded data removed]",
            "text/plain": [
              "<Figure size 432x288 with 1 Axes>"
            ]
          },
          "metadata": {
            "needs_background": "light"
          }
        }
      ],
      "source": [
        "# Plot the original training data again, together with the polynomial we fit\n",
        "plt.plot(x, t, \"r.\")\n",
        "plt.plot(x, np.dot(feature_matrix, w), \"b-\")"
      ]
    },
    {
      "cell_type": "markdown",
      "metadata": {
        "id": "OWYEe11YmYrs"
      },
      "source": [
        "### Neural net regression"
      ]
    },
    {
      "cell_type": "markdown",
      "metadata": {
        "id": "C7bnv5LemYru"
      },
      "source": [
        "In this example we will implement a (nonlinear) regression model using a neural network. To implement and train a neural net using Autograd, you only have to define the forward pass of the network and the loss function you wish to use; you do _not_ need to implement the _backward pass_ of the network. When you take the gradient of the loss function using `grad`, Autograd automatically computes computes the backward pass. It essentially executes the backpropagation algorithm implicitly.\n",
        "\n",
        "![Neural Network Architecture for Regression](https://drive.google.com/uc?export=view&id=1iBNS40V_afm_Y1MUosDqeio0wbxgycfh)"
      ]
    },
    {
      "cell_type": "code",
      "execution_count": 28,
      "metadata": {
        "colab": {
          "base_uri": "https://localhost:8080/",
          "height": 265
        },
        "id": "0TuIWDkCmYr5",
        "outputId": "2e380a50-a063-49bd-8c1a-740af0c49393"
      },
      "outputs": [
        {
          "output_type": "display_data",
          "data": {
            "image/png": "[encoded data removed]",
            "text/plain": [
              "<Figure size 432x288 with 1 Axes>"
            ]
          },
          "metadata": {
            "needs_background": "light"
          }
        }
      ],
      "source": [
        "# Generate synthetic data\n",
        "x = np.linspace(-5, 5, 1000)\n",
        "t = x ** 3 - 20 * x + 10 + npr.normal(0, 4, x.shape[0])\n",
        "plt.plot(x, t, \"r.\")\n",
        "\n",
        "x = torch.from_numpy(x).float()\n",
        "t = torch.from_numpy(t)"
      ]
    },
    {
      "cell_type": "code",
      "execution_count": 29,
      "metadata": {
        "colab": {
          "base_uri": "https://localhost:8080/",
          "height": 630
        },
        "id": "yphlCjMmmYr9",
        "outputId": "1f6375f9-1d6c-4c47-cb8f-bb3441a7fbf9"
      },
      "outputs": [
        {
          "output_type": "stream",
          "name": "stdout",
          "text": [
            "tensor(493.6958, dtype=torch.float64, grad_fn=<MulBackward0>)\n",
            "i: 0     loss: 493.6958\n",
            "i: 500   loss: 293.4802\n",
            "i: 1000  loss: 293.4802\n",
            "i: 1500  loss: 293.4802\n",
            "i: 2000  loss: 293.4802\n",
            "i: 2500  loss: 293.4802\n",
            "i: 3000  loss: 293.4802\n",
            "i: 3500  loss: 293.4802\n",
            "i: 4000  loss: 293.4802\n",
            "i: 4500  loss: 293.4802\n",
            "i: 5000  loss: 293.4802\n",
            "i: 5500  loss: 293.4802\n",
            "i: 6000  loss: 293.4802\n",
            "i: 6500  loss: 293.4802\n",
            "i: 7000  loss: 293.4802\n",
            "i: 7500  loss: 293.4802\n",
            "i: 8000  loss: 293.4802\n",
            "i: 8500  loss: 293.4802\n",
            "i: 9000  loss: 293.4802\n",
            "i: 9500  loss: 293.4802\n"
          ]
        },
        {
          "output_type": "display_data",
          "data": {
            "image/png": "[encoded data removed]",
            "text/plain": [
              "<Figure size 432x288 with 1 Axes>"
            ]
          },
          "metadata": {
            "needs_background": "light"
          }
        }
      ],
      "source": [
        "inputs = x.reshape(x.shape[-1], 1)\n",
        "\n",
        "params = {\n",
        "    \"W1\": torch.randn(1, 4).requires_grad_(True),\n",
        "    \"b1\": torch.randn(4).requires_grad_(True),\n",
        "    \"W2\": torch.randn(4, 4).requires_grad_(True),\n",
        "    \"b2\": torch.randn(4).requires_grad_(True),\n",
        "    \"W3\": torch.randn(4, 1).requires_grad_(True),\n",
        "    \"b3\": torch.randn(1).requires_grad_(True),\n",
        "}\n",
        "\n",
        "\n",
        "# We can define an optimizer which takes care of updating parameters based on their gradient. We can use more complex optimizers like SGD+Momntum or Adam.\n",
        "optimizer = torch.optim.SGD(params.values(), lr=0.0001, weight_decay=0.0001, momentum=0.9)\n",
        "\n",
        "# Pytorch also has implementation of wide range of activation functions such as: Tanh, ReLU, LeakyReLU, ...\n",
        "nonlinearity = torch.nn.ReLU()\n",
        "\n",
        "\n",
        "def predict(params, inputs):\n",
        "    h1 = nonlinearity(torch.mm(inputs, params[\"W1\"]) + params[\"b1\"])\n",
        "    h2 = nonlinearity(torch.mm(h1, params[\"W2\"]) + params[\"b2\"])\n",
        "    output = torch.mm(h2, params[\"W3\"]) + params[\"b3\"]\n",
        "    return output\n",
        "\n",
        "\n",
        "def cost(params):\n",
        "    output = predict(params, inputs)\n",
        "    return (1.0 / inputs.shape[0]) * torch.sum(0.5 * (output.reshape(output.shape[0]) - t) ** 2)\n",
        "\n",
        "\n",
        "print(cost(params))\n",
        "\n",
        "num_epochs = 10000\n",
        "\n",
        "for i in range(num_epochs):\n",
        "    # Evaluate the gradient of the current parameters stored in params\n",
        "    loss = cost(params)\n",
        "    if i % 500 == 0:\n",
        "        print(f\"i: {i:<5d} loss: {loss.item():.4f}\")\n",
        "    optimizer.zero_grad()\n",
        "    loss.backward()\n",
        "    optimizer.step()\n",
        "\n",
        "with torch.no_grad():\n",
        "    final_y = predict(params, inputs)\n",
        "    plt.plot(x, t, \"r.\")\n",
        "    plt.plot(x, final_y, \"b-\")"
      ]
    },
    {
      "cell_type": "markdown",
      "metadata": {
        "id": "mWU6AagIE3l6"
      },
      "source": [
        "## Part 3.2 Neural network models"
      ]
    },
    {
      "cell_type": "markdown",
      "metadata": {
        "id": "lkdDq61Ea38-"
      },
      "source": [
        "### MNIST classification"
      ]
    },
    {
      "cell_type": "markdown",
      "metadata": {
        "id": "hiJiOPA5a-lu"
      },
      "source": [
        "MNIST is a famous dataset containing hand-written digits. The training set contains 60k and the test set contains 10k images. Pytorch has built-in functions for downloading well-known datasets like MNIST."
      ]
    },
    {
      "cell_type": "code",
      "execution_count": 30,
      "metadata": {
        "id": "eeeIOIMha5da",
        "colab": {
          "base_uri": "https://localhost:8080/",
          "height": 829,
          "referenced_widgets": [
            "b10549cf47284b61822ea683660c7d46",
            "718c2ddff42447c9a6dd3b59340d34fb",
            "19952ed4450d45a99b22d108ee09422b",
            "6349e1c61fb94c05857e607dcc1cc3e8",
            "13ffd011c060417fac85950ef87ab098",
            "6a5a567db7884bd1af905455879fd735",
            "f4e78318d5fd46399909eecd9a464fc0",
            "0a8b4648a9ca461481fb2a493972aed3",
            "5ab4c2782c38441091eedac49a19849f",
            "e07bd406346944f8b912beed2df505ca",
            "23be42f5a0cc40db816ea8694c9b14ac",
            "b9248f170c194fe0980a860ef1e39ff9",
            "985b2b69a6024adabeeda06f922322b0",
            "71d524f1859e4f48abe6a23adee4bcc8",
            "da4476e139784164bedc300b4ff31640",
            "bedc33c59d03499b9a3773e1b70c4873",
            "5a2513e6471e4869b09e35c0289feae9",
            "061b3132051a43889d6e1ce506c70fe1",
            "7dd6aecae3b843ee92d68599a3cd7827",
            "66d4bfdcf01e4bfa9e6098a73818e661",
            "9d697de6394e41c6a6a6a015a92355bd",
            "d449bba8c04a4662b4d274456dd4fed9",
            "36f094f471854adfaa1e3eaf4888f6a2",
            "7cca0af0a5ed4413adf5a1a254f38d01",
            "bdfa885261b34ef4a1181008e6813e47",
            "647a7ec06fd54ef1ba9115a432878641",
            "40be355e9e994fa581c907ad42d33d97",
            "8b711ee32fac495d97697f4531107921",
            "cfc1c828d87d4587ad9117a2887fb50e",
            "483fbeb401984b34a46d22cf16e035fb",
            "97aaec5f371f4f1d9cab01f3eaaeae31",
            "05057e0e65504dbe90360b60841d850f",
            "449772062a3844c49f94a118e451454e",
            "66260eb6c3404b0aa1751d2fdd488849",
            "2a7dc85ec0054c2d9bfca9494f2e9e99",
            "86bced2d7e154d33a23849b3ad6fb8e5",
            "7df253cbc89d4c33b84b8d6a7ff55345",
            "0ce1097fc282446dbb3fa0eb7866dabd",
            "cb85f565db4f436db15c7350dd2daaf2",
            "7a7989bfb0b649e2aa9b1385a9957567",
            "c3e24ac06daf4d3cb745e5ce0eb4d693",
            "880885ffd2d646ab82b6af8558df7989",
            "e7e4fbabdcdb40a0919bbc4dcd1dabdc",
            "4b078f8e60464e088dd431669d604622",
            "b6c75db8f5874638a1bef443ff5597dd",
            "1573d5bcf3fb46d1b1d7bdda233be8b1",
            "7b82e30306d140439a3e507d1058a17b",
            "8f7c1c9ad5e64a66ab90de73b118cdce",
            "17ce1f75e1d14057bb18443d3de862a5",
            "b3442cdb85b746e8a95ca935eb6d5c21",
            "dde4c77e6d9e42928d321153bcd3b7d9",
            "3b75ee6f4f3b4483890b58f7beed25f2",
            "841fb60424c145fea59a178f05fb3ff0",
            "95e9ea8af8f74931845f19e167dc7710",
            "57ea20c6559c455cbe8f2567fe15cec8",
            "61bccdc7198940ed9c7555ffadb3d68a",
            "2f2ff18d9f7b4266b9c6406f35833ffd",
            "dcd12a6065d94139a315588d5126c6e1",
            "64f36c0e35bc445e86c5d6b85874631b",
            "e14f93845f804ac08780534520de847e",
            "1bf55c7aa59a4baa8de708c81051bc34",
            "a87c921e4cf441d7b54aa3ccb21a59bb",
            "791439340af54d5f8a7cf01ab723bff2",
            "2336c2ec2a134fef94a3dfddc91cb441",
            "8748f68f052247aebf4c91e620c0d1b5",
            "3af261e3dc1046449d04247a7fd78034",
            "60a66db4b0474fa494b1448dbb446ea0",
            "02b3bc70b27c45a5aa532be19c964930",
            "26557e766b4a43a3802e1dbfea028fad",
            "940046a4828f4b65b6ac3c6a4d639249",
            "43f2cc65e06543dda3441baa45579f19",
            "60958cfcad014764881d69d75a8103a5",
            "d91ba1b551474a3abe12badc988476e9",
            "f1aea6ecea63479d9c3ba260849cad28",
            "67f5a4e516494a5abf462cdb30a58606",
            "bdb047d139af462e9d49b656571e6c54",
            "c095bb4415924042b357989d062db407",
            "0205c578e18142d3bcf683faa2d08caa",
            "6081e74be19642b0b5cb165e5b4d1f6d",
            "904ffc9b55c94cb28f29e021e421a0a2",
            "d122f82e3d5b41e792d06a156202a061",
            "4839d862b7fa49b3976fd96d6ab62116",
            "33827b647ead4a3ba04e824e4158ee36",
            "a2731c88b91548918019ce85928894a5",
            "b55fbeb27f104dfc85094fb484b00427",
            "c527f6682d9647f3bf8a36478e923eba",
            "26f913435bb149219b49fe33e7dc97f7",
            "6ce449d1854646288280d9b7354bf172"
          ]
        },
        "outputId": "e9894d8f-dfe1-4b43-8d7c-5d5731622cab"
      },
      "outputs": [
        {
          "output_type": "stream",
          "name": "stdout",
          "text": [
            "Downloading http://yann.lecun.com/exdb/mnist/train-images-idx3-ubyte.gz\n",
            "Downloading http://yann.lecun.com/exdb/mnist/train-images-idx3-ubyte.gz to data/MNIST/raw/train-images-idx3-ubyte.gz\n"
          ]
        },
        {
          "output_type": "display_data",
          "data": {
            "application/vnd.jupyter.widget-view+json": {
              "model_id": "b10549cf47284b61822ea683660c7d46",
              "version_minor": 0,
              "version_major": 2
            },
            "text/plain": [
              "  0%|          | 0/9912422 [00:00<?, ?it/s]"
            ]
          },
          "metadata": {}
        },
        {
          "output_type": "stream",
          "name": "stdout",
          "text": [
            "Extracting data/MNIST/raw/train-images-idx3-ubyte.gz to data/MNIST/raw\n",
            "\n",
            "Downloading http://yann.lecun.com/exdb/mnist/train-labels-idx1-ubyte.gz\n",
            "Downloading http://yann.lecun.com/exdb/mnist/train-labels-idx1-ubyte.gz to data/MNIST/raw/train-labels-idx1-ubyte.gz\n"
          ]
        },
        {
          "output_type": "display_data",
          "data": {
            "application/vnd.jupyter.widget-view+json": {
              "model_id": "b9248f170c194fe0980a860ef1e39ff9",
              "version_minor": 0,
              "version_major": 2
            },
            "text/plain": [
              "  0%|          | 0/28881 [00:00<?, ?it/s]"
            ]
          },
          "metadata": {}
        },
        {
          "output_type": "stream",
          "name": "stdout",
          "text": [
            "Extracting data/MNIST/raw/train-labels-idx1-ubyte.gz to data/MNIST/raw\n",
            "\n",
            "Downloading http://yann.lecun.com/exdb/mnist/t10k-images-idx3-ubyte.gz\n",
            "Downloading http://yann.lecun.com/exdb/mnist/t10k-images-idx3-ubyte.gz to data/MNIST/raw/t10k-images-idx3-ubyte.gz\n"
          ]
        },
        {
          "output_type": "display_data",
          "data": {
            "application/vnd.jupyter.widget-view+json": {
              "model_id": "36f094f471854adfaa1e3eaf4888f6a2",
              "version_minor": 0,
              "version_major": 2
            },
            "text/plain": [
              "  0%|          | 0/1648877 [00:00<?, ?it/s]"
            ]
          },
          "metadata": {}
        },
        {
          "output_type": "stream",
          "name": "stdout",
          "text": [
            "Extracting data/MNIST/raw/t10k-images-idx3-ubyte.gz to data/MNIST/raw\n",
            "\n",
            "Downloading http://yann.lecun.com/exdb/mnist/t10k-labels-idx1-ubyte.gz\n",
            "Downloading http://yann.lecun.com/exdb/mnist/t10k-labels-idx1-ubyte.gz to data/MNIST/raw/t10k-labels-idx1-ubyte.gz\n"
          ]
        },
        {
          "output_type": "display_data",
          "data": {
            "application/vnd.jupyter.widget-view+json": {
              "model_id": "66260eb6c3404b0aa1751d2fdd488849",
              "version_minor": 0,
              "version_major": 2
            },
            "text/plain": [
              "  0%|          | 0/4542 [00:00<?, ?it/s]"
            ]
          },
          "metadata": {}
        },
        {
          "output_type": "stream",
          "name": "stdout",
          "text": [
            "Extracting data/MNIST/raw/t10k-labels-idx1-ubyte.gz to data/MNIST/raw\n",
            "\n",
            "Downloading http://yann.lecun.com/exdb/mnist/train-images-idx3-ubyte.gz\n",
            "Downloading http://yann.lecun.com/exdb/mnist/train-images-idx3-ubyte.gz to ../data/MNIST/raw/train-images-idx3-ubyte.gz\n"
          ]
        },
        {
          "output_type": "display_data",
          "data": {
            "application/vnd.jupyter.widget-view+json": {
              "model_id": "b6c75db8f5874638a1bef443ff5597dd",
              "version_minor": 0,
              "version_major": 2
            },
            "text/plain": [
              "  0%|          | 0/9912422 [00:00<?, ?it/s]"
            ]
          },
          "metadata": {}
        },
        {
          "output_type": "stream",
          "name": "stdout",
          "text": [
            "Extracting ../data/MNIST/raw/train-images-idx3-ubyte.gz to ../data/MNIST/raw\n",
            "\n",
            "Downloading http://yann.lecun.com/exdb/mnist/train-labels-idx1-ubyte.gz\n",
            "Downloading http://yann.lecun.com/exdb/mnist/train-labels-idx1-ubyte.gz to ../data/MNIST/raw/train-labels-idx1-ubyte.gz\n"
          ]
        },
        {
          "output_type": "display_data",
          "data": {
            "application/vnd.jupyter.widget-view+json": {
              "model_id": "61bccdc7198940ed9c7555ffadb3d68a",
              "version_minor": 0,
              "version_major": 2
            },
            "text/plain": [
              "  0%|          | 0/28881 [00:00<?, ?it/s]"
            ]
          },
          "metadata": {}
        },
        {
          "output_type": "stream",
          "name": "stdout",
          "text": [
            "Extracting ../data/MNIST/raw/train-labels-idx1-ubyte.gz to ../data/MNIST/raw\n",
            "\n",
            "Downloading http://yann.lecun.com/exdb/mnist/t10k-images-idx3-ubyte.gz\n",
            "Downloading http://yann.lecun.com/exdb/mnist/t10k-images-idx3-ubyte.gz to ../data/MNIST/raw/t10k-images-idx3-ubyte.gz\n"
          ]
        },
        {
          "output_type": "display_data",
          "data": {
            "application/vnd.jupyter.widget-view+json": {
              "model_id": "60a66db4b0474fa494b1448dbb446ea0",
              "version_minor": 0,
              "version_major": 2
            },
            "text/plain": [
              "  0%|          | 0/1648877 [00:00<?, ?it/s]"
            ]
          },
          "metadata": {}
        },
        {
          "output_type": "stream",
          "name": "stdout",
          "text": [
            "Extracting ../data/MNIST/raw/t10k-images-idx3-ubyte.gz to ../data/MNIST/raw\n",
            "\n",
            "Downloading http://yann.lecun.com/exdb/mnist/t10k-labels-idx1-ubyte.gz\n",
            "Downloading http://yann.lecun.com/exdb/mnist/t10k-labels-idx1-ubyte.gz to ../data/MNIST/raw/t10k-labels-idx1-ubyte.gz\n"
          ]
        },
        {
          "output_type": "display_data",
          "data": {
            "application/vnd.jupyter.widget-view+json": {
              "model_id": "0205c578e18142d3bcf683faa2d08caa",
              "version_minor": 0,
              "version_major": 2
            },
            "text/plain": [
              "  0%|          | 0/4542 [00:00<?, ?it/s]"
            ]
          },
          "metadata": {}
        },
        {
          "output_type": "stream",
          "name": "stdout",
          "text": [
            "Extracting ../data/MNIST/raw/t10k-labels-idx1-ubyte.gz to ../data/MNIST/raw\n",
            "\n"
          ]
        }
      ],
      "source": [
        "from torchvision import datasets, transforms\n",
        "\n",
        "mnist_train = datasets.MNIST(\"data\", train=True, download=True, transform=transforms.ToTensor())\n",
        "\n",
        "mnist_test = datasets.MNIST(\"../data\", train=False, download=True, transform=transforms.ToTensor())"
      ]
    },
    {
      "cell_type": "code",
      "execution_count": 31,
      "metadata": {
        "colab": {
          "base_uri": "https://localhost:8080/"
        },
        "id": "nTdP7vjzb35H",
        "outputId": "96c5c982-1bdb-4eed-889d-5ab2923dcad8"
      },
      "outputs": [
        {
          "output_type": "stream",
          "name": "stdout",
          "text": [
            "Dataset MNIST\n",
            "    Number of datapoints: 60000\n",
            "    Root location: data\n",
            "    Split: Train\n",
            "    StandardTransform\n",
            "Transform: ToTensor()\n",
            "Dataset MNIST\n",
            "    Number of datapoints: 10000\n",
            "    Root location: ../data\n",
            "    Split: Test\n",
            "    StandardTransform\n",
            "Transform: ToTensor()\n"
          ]
        }
      ],
      "source": [
        "print(mnist_train)\n",
        "print(mnist_test)"
      ]
    },
    {
      "cell_type": "code",
      "execution_count": 32,
      "metadata": {
        "colab": {
          "base_uri": "https://localhost:8080/",
          "height": 282
        },
        "id": "1dWTw-Rgbh5O",
        "outputId": "991aeb43-3771-4fa7-ea45-d4245acd2dcd"
      },
      "outputs": [
        {
          "output_type": "stream",
          "name": "stdout",
          "text": [
            "Label:  5\n"
          ]
        },
        {
          "output_type": "display_data",
          "data": {
            "image/png": "[encoded data removed]",
            "text/plain": [
              "<Figure size 432x288 with 1 Axes>"
            ]
          },
          "metadata": {
            "needs_background": "light"
          }
        }
      ],
      "source": [
        "i = npr.randint(1, 50000)\n",
        "example = mnist_train[i]\n",
        "print(\"Label: \", example[1])\n",
        "plt.imshow(example[0].reshape((28, 28)), cmap=plt.cm.gray)\n",
        "plt.grid(None)"
      ]
    },
    {
      "cell_type": "markdown",
      "metadata": {
        "id": "F5cYaF7PcB7v"
      },
      "source": [
        "Pytorch's DataLoader is responsible for creating an iterator over the dataset.  "
      ]
    },
    {
      "cell_type": "code",
      "execution_count": 33,
      "metadata": {
        "colab": {
          "base_uri": "https://localhost:8080/",
          "height": 248
        },
        "id": "4WDyu63wcV3Z",
        "outputId": "7a005699-bf7c-4680-c493-d4bd71722160"
      },
      "outputs": [
        {
          "output_type": "execute_result",
          "data": {
            "text/plain": [
              "<matplotlib.image.AxesImage at 0x7ff604078550>"
            ]
          },
          "metadata": {},
          "execution_count": 33
        },
        {
          "output_type": "display_data",
          "data": {
            "image/png": "[encoded data removed]",
            "text/plain": [
              "<Figure size 576x576 with 1 Axes>"
            ]
          },
          "metadata": {
            "needs_background": "light"
          }
        }
      ],
      "source": [
        "import torchvision\n",
        "from torch.utils.data import DataLoader\n",
        "\n",
        "mnist_train = datasets.MNIST(\"data\", train=True, download=True, transform=transforms.ToTensor())\n",
        "\n",
        "mnist_test = datasets.MNIST(\"data\", train=False, download=True, transform=transforms.ToTensor())\n",
        "\n",
        "bs = 32\n",
        "train_dl = DataLoader(mnist_train, batch_size=bs)\n",
        "test_dl = DataLoader(mnist_test, batch_size=100)\n",
        "\n",
        "dataiter = iter(train_dl)\n",
        "images, labels = dataiter.next()\n",
        "viz = torchvision.utils.make_grid(images, nrow=10, padding=2).numpy()\n",
        "fig, ax = plt.subplots(figsize=(8, 8))\n",
        "ax.imshow(np.transpose(viz, (1, 2, 0)))\n",
        "# ax.grid(None)"
      ]
    },
    {
      "cell_type": "markdown",
      "metadata": {
        "id": "779GU7DKdVbn"
      },
      "source": [
        "Using pytorch built-in function we can easily define any model like multi-layer perceptrons. After training, we just care about the average test accuracy, so let's write a function to compute the accuracy over test set."
      ]
    },
    {
      "cell_type": "code",
      "execution_count": 34,
      "metadata": {
        "id": "2Led8bErdZrw"
      },
      "outputs": [],
      "source": [
        "def get_test_stat(model, dl, device):\n",
        "    model.eval()\n",
        "    cum_loss, cum_acc = 0.0, 0.0\n",
        "    for i, (xb, yb) in enumerate(dl):\n",
        "        xb = xb.to(device)\n",
        "        yb = yb.to(device)\n",
        "\n",
        "        xb = xb.view(xb.size(0), -1)\n",
        "        y_pred = model(xb)\n",
        "        loss = loss_fn(y_pred, yb)\n",
        "        acc = (torch.max(y_pred.data, 1)[1] == yb).sum()  # accuracy(y_pred, yb)\n",
        "        cum_loss += loss.item() * len(yb)\n",
        "        cum_acc += acc.item() * len(yb)\n",
        "    cum_loss /= 10000\n",
        "    cum_acc /= 10000\n",
        "    model.train()\n",
        "    return cum_loss, cum_acc"
      ]
    },
    {
      "cell_type": "code",
      "execution_count": 35,
      "metadata": {
        "colab": {
          "base_uri": "https://localhost:8080/"
        },
        "id": "ohxuCpR9eLGt",
        "outputId": "9d427503-9f7a-4dd4-a0ee-79a3b5d5ba0e"
      },
      "outputs": [
        {
          "output_type": "stream",
          "name": "stdout",
          "text": [
            "Using cuda\n",
            "0\n",
            "Test loss: 0.4098616365343332  Test acc: 88.84\n",
            "1\n",
            "Test loss: 0.3275777691602707  Test acc: 90.65\n"
          ]
        }
      ],
      "source": [
        "dim_x = 784\n",
        "dim_h = 100\n",
        "dim_out = 10\n",
        "\n",
        "model = torch.nn.Sequential(\n",
        "    torch.nn.Linear(dim_x, dim_h),\n",
        "    torch.nn.ReLU(),\n",
        "    torch.nn.Linear(dim_h, dim_out),\n",
        ")\n",
        "\n",
        "learning_rate = 1e-2\n",
        "epochs = 2\n",
        "\n",
        "optimizer = torch.optim.SGD(model.parameters(), lr=learning_rate)\n",
        "\n",
        "# Using GPUs in PyTorch is pretty straightforward\n",
        "if torch.cuda.is_available():\n",
        "    print(\"Using cuda\")\n",
        "    use_cuda = True\n",
        "    device = torch.device(\"cuda\")\n",
        "else:\n",
        "    device = \"cpu\"\n",
        "\n",
        "# we need to tell pytorch to move the model to gpu\n",
        "model.to(device)\n",
        "\n",
        "loss_fn = torch.nn.CrossEntropyLoss()\n",
        "\n",
        "model.train()\n",
        "for epoch in range(epochs):\n",
        "    print(epoch)\n",
        "    for i, (xb, yb) in enumerate(train_dl):\n",
        "\n",
        "        # We also need to transfer the data to the target device\n",
        "        xb = xb.to(device)\n",
        "        yb = yb.to(device)\n",
        "        xb = xb.view(xb.size(0), -1)\n",
        "\n",
        "        # Forward pass\n",
        "        y_pred = model(xb)\n",
        "        loss = loss_fn(y_pred, yb)\n",
        "\n",
        "        # Backward pass\n",
        "        model.zero_grad()  # Zero out the previous gradient computation\n",
        "        loss.backward()  # Compute the gradient\n",
        "        optimizer.step()  # Use the gradient information to make a step\n",
        "\n",
        "    test_loss, test_acc = get_test_stat(model, test_dl, device)\n",
        "    print(\"Test loss: {}  Test acc: {}\".format(test_loss, test_acc))"
      ]
    },
    {
      "cell_type": "markdown",
      "metadata": {
        "id": "nSTuUZlRgeUD"
      },
      "source": [
        "### Dynamic network"
      ]
    },
    {
      "cell_type": "markdown",
      "metadata": {
        "id": "Ji_qMWsOgbbj"
      },
      "source": [
        "To showcase the power of PyTorch dynamic graphs, we will implement a very strange model: a fully-connected ReLU network that on each forward pass randomly chooses a number between 1 and 4 and has that many hidden layers, reusing the same weights multiple times to compute the innermost hidden layers.\n",
        "\n",
        "By Justin Johnson https://github.com/jcjohnson/pytorch-examples/blob/master/nn/dynamic_net.py"
      ]
    },
    {
      "cell_type": "code",
      "execution_count": 36,
      "metadata": {
        "colab": {
          "base_uri": "https://localhost:8080/"
        },
        "id": "D5dRsCN9gnvU",
        "outputId": "b10a8555-9abc-42a4-806e-06980dd673e3"
      },
      "outputs": [
        {
          "output_type": "stream",
          "name": "stdout",
          "text": [
            "0 86.33935546875\n",
            "10 63.86002731323242\n",
            "20 78.95686340332031\n",
            "30 48.10762023925781\n",
            "40 12.419462203979492\n"
          ]
        }
      ],
      "source": [
        "import random\n",
        "\n",
        "\n",
        "class DynamicNet(torch.nn.Module):\n",
        "    def __init__(self, D_in, H, D_out):\n",
        "        \"\"\"\n",
        "        In the constructor we construct three nn.Linear instances that we will use\n",
        "        in the forward pass.\n",
        "        \"\"\"\n",
        "        super(DynamicNet, self).__init__()\n",
        "        self.input_linear = torch.nn.Linear(D_in, H)\n",
        "        self.middle_linear = torch.nn.Linear(H, H)\n",
        "        self.output_linear = torch.nn.Linear(H, D_out)\n",
        "\n",
        "    def forward(self, x, verbose=False):\n",
        "        \"\"\"\n",
        "        For the forward pass of the model, we randomly choose either 0, 1, 2, or 3\n",
        "        and reuse the middle_linear Module that many times to compute hidden layer\n",
        "        representations.\n",
        "        Since each forward pass builds a dynamic computation graph, we can use normal\n",
        "        Python control-flow operators like loops or conditional statements when\n",
        "        defining the forward pass of the model.\n",
        "        Here we also see that it is perfectly safe to reuse the same Module many\n",
        "        times when defining a computational graph. This is a big improvement from Lua\n",
        "        Torch, where each Module could be used only once.\n",
        "        \"\"\"\n",
        "        h_relu = self.input_linear(x).clamp(min=0)\n",
        "        n_layers = random.randint(0, 3)\n",
        "        if verbose:\n",
        "            print(\"The number of layers for this run is\", n_layers)\n",
        "            # print(h_relu)\n",
        "        for _ in range(n_layers):\n",
        "            h_relu = self.middle_linear(h_relu).clamp(min=0)\n",
        "            if verbose:\n",
        "                pass\n",
        "                # print(h_relu)\n",
        "        y_pred = self.output_linear(h_relu)\n",
        "        return y_pred\n",
        "\n",
        "\n",
        "# N is batch size; D_in is input dimension;\n",
        "# H is hidden dimension; D_out is output dimension.\n",
        "N, D_in, H, D_out = 64, 1000, 10, 1\n",
        "\n",
        "# Create random Tensors to hold inputs and outputs, and wrap them in Variables\n",
        "x = torch.randn(N, D_in)\n",
        "y = torch.randn(N, D_out).requires_grad_(False)\n",
        "\n",
        "# Construct our model by instantiating the class defined above\n",
        "model = DynamicNet(D_in, H, D_out)\n",
        "\n",
        "# Construct our loss function and an Optimizer. Training this strange model with\n",
        "# vanilla stochastic gradient descent is tough, so we use momentum\n",
        "criterion = torch.nn.MSELoss(reduction=\"sum\")\n",
        "optimizer = torch.optim.SGD(model.parameters(), lr=1e-4, momentum=0.9)\n",
        "for t in range(50):\n",
        "    # Forward pass: Compute predicted y by passing x to the model\n",
        "    y_pred = model(x)\n",
        "\n",
        "    # Compute and print loss\n",
        "    loss = criterion(y_pred, y)\n",
        "    if t % 10 == 0:\n",
        "        print(t, loss.data.item())\n",
        "\n",
        "    # Zero gradients, perform a backward pass, and update the weights.\n",
        "    optimizer.zero_grad()\n",
        "    loss.backward()\n",
        "    optimizer.step()"
      ]
    },
    {
      "cell_type": "markdown",
      "metadata": {
        "id": "FX-mRC_5iNvs"
      },
      "source": [
        "### CIFAR10 classification"
      ]
    },
    {
      "cell_type": "markdown",
      "metadata": {
        "id": "KVftofphh-ng"
      },
      "source": [
        "We will finish with an example on CIFAR10, highlighting the importance of applying transformations to your inputs. Example is lifted from:\n",
        "\n",
        "https://github.com/uoguelph-mlrg/Cutout/blob/master/train.py"
      ]
    },
    {
      "cell_type": "code",
      "execution_count": 37,
      "metadata": {
        "id": "9iAw2caKiW97"
      },
      "outputs": [],
      "source": [
        "import torch.nn as nn\n",
        "import torch.nn.functional as F\n",
        "\n",
        "\n",
        "class Net(nn.Module):\n",
        "    def __init__(self):\n",
        "        super(Net, self).__init__()\n",
        "        self.conv1 = nn.Conv2d(3, 6, 5)\n",
        "        self.pool = nn.MaxPool2d(2, 2)\n",
        "        self.conv2 = nn.Conv2d(6, 16, 5)\n",
        "        self.fc1 = nn.Linear(16 * 5 * 5, 120)\n",
        "        self.fc2 = nn.Linear(120, 120)\n",
        "        self.fc3 = nn.Linear(120, 10)\n",
        "\n",
        "    def forward(self, x):\n",
        "        x = self.pool(F.relu(self.conv1(x)))\n",
        "        x = self.pool(F.relu(self.conv2(x)))\n",
        "        x = x.view(-1, 16 * 5 * 5)\n",
        "        x = F.relu(self.fc1(x))\n",
        "        x = F.relu(self.fc2(x))\n",
        "        x = self.fc3(x)\n",
        "        return x"
      ]
    },
    {
      "cell_type": "code",
      "execution_count": 38,
      "metadata": {
        "id": "A3p2SQViibIc"
      },
      "outputs": [],
      "source": [
        "def get_data(data_normalize=False, data_augment=False):\n",
        "    train_transform = transforms.Compose([])\n",
        "    test_transform = transforms.Compose([])\n",
        "\n",
        "    if data_augment:\n",
        "        train_transform.transforms.append(transforms.RandomCrop(32, padding=4))\n",
        "        train_transform.transforms.append(transforms.RandomHorizontalFlip())\n",
        "\n",
        "    train_transform.transforms.append(transforms.ToTensor())\n",
        "    test_transform.transforms.append(transforms.ToTensor())\n",
        "\n",
        "    if data_normalize:\n",
        "        normalize = transforms.Normalize(\n",
        "            mean=[x / 255.0 for x in [125.3, 123.0, 113.9]],\n",
        "            std=[x / 255.0 for x in [63.0, 62.1, 66.7]],\n",
        "        )\n",
        "        train_transform.transforms.append(normalize)\n",
        "        test_transform.transforms.append(normalize)\n",
        "\n",
        "    train_dataset = datasets.CIFAR10(\n",
        "        root=\"data/\", train=True, transform=train_transform, download=True\n",
        "    )\n",
        "\n",
        "    test_dataset = datasets.CIFAR10(\n",
        "        root=\"data/\", train=False, transform=test_transform, download=True\n",
        "    )\n",
        "    train_loader = torch.utils.data.DataLoader(\n",
        "        dataset=train_dataset, batch_size=128, shuffle=True, num_workers=2\n",
        "    )\n",
        "\n",
        "    test_loader = torch.utils.data.DataLoader(\n",
        "        dataset=test_dataset, batch_size=128, shuffle=False, num_workers=2\n",
        "    )\n",
        "    return train_loader, test_loader\n",
        "\n",
        "\n",
        "def test(net, loader):\n",
        "    net.eval()  # Change model to 'eval' mode (BN uses moving mean/var).\n",
        "    correct = 0.0\n",
        "    total = 0.0\n",
        "    for images, labels in loader:\n",
        "        with torch.no_grad():\n",
        "            pred = net(images)\n",
        "\n",
        "        pred = torch.max(pred.data, 1)[1]\n",
        "        total += labels.size(0)\n",
        "        correct += (pred == labels).sum().item()\n",
        "\n",
        "    val_acc = correct / total\n",
        "    net.train()\n",
        "    return val_acc"
      ]
    },
    {
      "cell_type": "code",
      "execution_count": 39,
      "metadata": {
        "id": "-GR395vyihIU"
      },
      "outputs": [],
      "source": [
        "def train_model(train_loader, test_loader, epochs=5):\n",
        "\n",
        "    net = Net()\n",
        "    optimizer = torch.optim.SGD(net.parameters(), lr=0.1, momentum=0.9)\n",
        "    criterion = nn.CrossEntropyLoss()\n",
        "    train_accs = []\n",
        "    test_accs = []\n",
        "\n",
        "    net.train()\n",
        "\n",
        "    for epoch in range(epochs):\n",
        "        print(epoch)\n",
        "\n",
        "        xentropy_loss_avg = 0.0\n",
        "        correct = 0.0\n",
        "        total = 0.0\n",
        "\n",
        "        for i, (images, labels) in enumerate(train_loader):\n",
        "\n",
        "            net.zero_grad()\n",
        "            pred = net(images)\n",
        "            xentropy_loss = criterion(pred, labels)\n",
        "            xentropy_loss.backward()\n",
        "            optimizer.step()\n",
        "\n",
        "            xentropy_loss_avg += xentropy_loss.item()\n",
        "\n",
        "            # Calculate running average of accuracy\n",
        "            pred = torch.max(pred.data, 1)[1]\n",
        "            total += labels.size(0)\n",
        "            correct += (pred == labels.data).sum().item()\n",
        "            accuracy = correct / total\n",
        "\n",
        "        test_acc = test(net, test_loader)\n",
        "        print(\"Test acc: \", test_acc)\n",
        "        train_accs.append(accuracy)\n",
        "        test_accs.append(test_acc)\n",
        "    return train_accs, test_accs"
      ]
    },
    {
      "cell_type": "code",
      "execution_count": 40,
      "metadata": {
        "colab": {
          "base_uri": "https://localhost:8080/",
          "height": 205,
          "referenced_widgets": [
            "d8f347bef3594dc09523e4f56541735e",
            "154f8fbda1e34399ae82e5798e2eb398",
            "c4714e50777c404193b82b9f741ced92",
            "5e61db8e6d6f44468cc3e68edb9f1017",
            "ca1e2172ee79408bac453df3bd978d7e",
            "e4129c30224346e6b8c7df0be96ad823",
            "32589b7b0fd54db2b2b5b92475f997a1",
            "3ce192e8fc7d443583f09d480fb42735",
            "12550032c085457db748cb740f7a7906",
            "bc34e25773c447ada09833734357b0f1",
            "4224a9c1566d4dd89f70308cba816ac8"
          ]
        },
        "id": "MADQb81UijK7",
        "outputId": "f8971dd7-c256-4def-afa6-c9aa0d5e87b0"
      },
      "outputs": [
        {
          "output_type": "stream",
          "name": "stdout",
          "text": [
            "Downloading https://www.cs.toronto.edu/~kriz/cifar-10-python.tar.gz to data/cifar-10-python.tar.gz\n"
          ]
        },
        {
          "output_type": "display_data",
          "data": {
            "application/vnd.jupyter.widget-view+json": {
              "model_id": "d8f347bef3594dc09523e4f56541735e",
              "version_minor": 0,
              "version_major": 2
            },
            "text/plain": [
              "  0%|          | 0/170498071 [00:00<?, ?it/s]"
            ]
          },
          "metadata": {}
        },
        {
          "output_type": "stream",
          "name": "stdout",
          "text": [
            "Extracting data/cifar-10-python.tar.gz to data/\n",
            "Files already downloaded and verified\n",
            "0\n",
            "Test acc:  0.1936\n",
            "1\n",
            "Test acc:  0.3328\n",
            "2\n",
            "Test acc:  0.3649\n"
          ]
        }
      ],
      "source": [
        "train_loader, test_loader = get_data(data_augment=False, data_normalize=False)\n",
        "train_accs, test_accs = train_model(train_loader, test_loader, epochs=3)"
      ]
    },
    {
      "cell_type": "code",
      "execution_count": 41,
      "metadata": {
        "colab": {
          "base_uri": "https://localhost:8080/"
        },
        "id": "UnYCP-REikzs",
        "outputId": "055ade3e-55d3-4da2-8f66-ebca3d048643"
      },
      "outputs": [
        {
          "output_type": "stream",
          "name": "stdout",
          "text": [
            "Files already downloaded and verified\n",
            "Files already downloaded and verified\n",
            "0\n",
            "Test acc:  0.3761\n",
            "1\n",
            "Test acc:  0.4228\n",
            "2\n",
            "Test acc:  0.4158\n"
          ]
        }
      ],
      "source": [
        "train_loader, test_loader = get_data(data_augment=False, data_normalize=True)\n",
        "normalize_train_accs, normalize_test_accs = train_model(train_loader, test_loader, epochs=3)"
      ]
    },
    {
      "cell_type": "code",
      "execution_count": 42,
      "metadata": {
        "colab": {
          "base_uri": "https://localhost:8080/",
          "height": 295
        },
        "id": "aRwFghLzimSJ",
        "outputId": "b9a20c8b-7d64-41f6-eb49-3f5b31794c9a"
      },
      "outputs": [
        {
          "output_type": "display_data",
          "data": {
            "image/png": "[encoded data removed]",
            "text/plain": [
              "<Figure size 432x288 with 1 Axes>"
            ]
          },
          "metadata": {
            "needs_background": "light"
          }
        }
      ],
      "source": [
        "fig, ax = plt.subplots()\n",
        "epochs = 3\n",
        "ax.plot(range(epochs), train_accs, c=\"blue\", label=\"no input normalization\")\n",
        "ax.plot(range(epochs), normalize_train_accs, c=\"red\", label=\"input normalization\")\n",
        "ax.legend()\n",
        "ax.set_xlabel(\"Epochs\")\n",
        "ax.set_ylabel(\"Accuracy\")\n",
        "ax.set_title(\"Train Accuracy\")\n",
        "fig.show()"
      ]
    }
  ],
  "metadata": {
    "colab": {
      "collapsed_sections": [],
      "name": "autograd_tutorial_2022.ipynb",
      "provenance": [],
      "toc_visible": true
    },
    "kernelspec": {
      "display_name": "Python 3",
      "language": "python",
      "name": "python3"
    },
    "language_info": {
      "codemirror_mode": {
        "name": "ipython",
        "version": 3
      },
      "file_extension": ".py",
      "mimetype": "text/x-python",
      "name": "python",
      "nbconvert_exporter": "python",
      "pygments_lexer": "ipython3",
      "version": "3.8.6"
    },
    "widgets": {
      "application/vnd.jupyter.widget-state+json": {
        "b10549cf47284b61822ea683660c7d46": {
          "model_module": "@jupyter-widgets/controls",
          "model_name": "HBoxModel",
          "model_module_version": "1.5.0",
          "state": {
            "_view_name": "HBoxView",
            "_dom_classes": [],
            "_model_name": "HBoxModel",
            "_view_module": "@jupyter-widgets/controls",
            "_model_module_version": "1.5.0",
            "_view_count": null,
            "_view_module_version": "1.5.0",
            "box_style": "",
            "layout": "IPY_MODEL_718c2ddff42447c9a6dd3b59340d34fb",
            "_model_module": "@jupyter-widgets/controls",
            "children": [
              "IPY_MODEL_19952ed4450d45a99b22d108ee09422b",
              "IPY_MODEL_6349e1c61fb94c05857e607dcc1cc3e8",
              "IPY_MODEL_13ffd011c060417fac85950ef87ab098"
            ]
          }
        },
        "718c2ddff42447c9a6dd3b59340d34fb": {
          "model_module": "@jupyter-widgets/base",
          "model_name": "LayoutModel",
          "model_module_version": "1.2.0",
          "state": {
            "_view_name": "LayoutView",
            "grid_template_rows": null,
            "right": null,
            "justify_content": null,
            "_view_module": "@jupyter-widgets/base",
            "overflow": null,
            "_model_module_version": "1.2.0",
            "_view_count": null,
            "flex_flow": null,
            "width": null,
            "min_width": null,
            "border": null,
            "align_items": null,
            "bottom": null,
            "_model_module": "@jupyter-widgets/base",
            "top": null,
            "grid_column": null,
            "overflow_y": null,
            "overflow_x": null,
            "grid_auto_flow": null,
            "grid_area": null,
            "grid_template_columns": null,
            "flex": null,
            "_model_name": "LayoutModel",
            "justify_items": null,
            "grid_row": null,
            "max_height": null,
            "align_content": null,
            "visibility": null,
            "align_self": null,
            "height": null,
            "min_height": null,
            "padding": null,
            "grid_auto_rows": null,
            "grid_gap": null,
            "max_width": null,
            "order": null,
            "_view_module_version": "1.2.0",
            "grid_template_areas": null,
            "object_position": null,
            "object_fit": null,
            "grid_auto_columns": null,
            "margin": null,
            "display": null,
            "left": null
          }
        },
        "19952ed4450d45a99b22d108ee09422b": {
          "model_module": "@jupyter-widgets/controls",
          "model_name": "HTMLModel",
          "model_module_version": "1.5.0",
          "state": {
            "_view_name": "HTMLView",
            "style": "IPY_MODEL_6a5a567db7884bd1af905455879fd735",
            "_dom_classes": [],
            "description": "",
            "_model_name": "HTMLModel",
            "placeholder": "​",
            "_view_module": "@jupyter-widgets/controls",
            "_model_module_version": "1.5.0",
            "value": "",
            "_view_count": null,
            "_view_module_version": "1.5.0",
            "description_tooltip": null,
            "_model_module": "@jupyter-widgets/controls",
            "layout": "IPY_MODEL_f4e78318d5fd46399909eecd9a464fc0"
          }
        },
        "6349e1c61fb94c05857e607dcc1cc3e8": {
          "model_module": "@jupyter-widgets/controls",
          "model_name": "FloatProgressModel",
          "model_module_version": "1.5.0",
          "state": {
            "_view_name": "ProgressView",
            "style": "IPY_MODEL_0a8b4648a9ca461481fb2a493972aed3",
            "_dom_classes": [],
            "description": "",
            "_model_name": "FloatProgressModel",
            "bar_style": "success",
            "max": 9912422,
            "_view_module": "@jupyter-widgets/controls",
            "_model_module_version": "1.5.0",
            "value": 9912422,
            "_view_count": null,
            "_view_module_version": "1.5.0",
            "orientation": "horizontal",
            "min": 0,
            "description_tooltip": null,
            "_model_module": "@jupyter-widgets/controls",
            "layout": "IPY_MODEL_5ab4c2782c38441091eedac49a19849f"
          }
        },
        "13ffd011c060417fac85950ef87ab098": {
          "model_module": "@jupyter-widgets/controls",
          "model_name": "HTMLModel",
          "model_module_version": "1.5.0",
          "state": {
            "_view_name": "HTMLView",
            "style": "IPY_MODEL_e07bd406346944f8b912beed2df505ca",
            "_dom_classes": [],
            "description": "",
            "_model_name": "HTMLModel",
            "placeholder": "​",
            "_view_module": "@jupyter-widgets/controls",
            "_model_module_version": "1.5.0",
            "value": " 9913344/? [00:00&lt;00:00, 42051003.85it/s]",
            "_view_count": null,
            "_view_module_version": "1.5.0",
            "description_tooltip": null,
            "_model_module": "@jupyter-widgets/controls",
            "layout": "IPY_MODEL_23be42f5a0cc40db816ea8694c9b14ac"
          }
        },
        "6a5a567db7884bd1af905455879fd735": {
          "model_module": "@jupyter-widgets/controls",
          "model_name": "DescriptionStyleModel",
          "model_module_version": "1.5.0",
          "state": {
            "_view_name": "StyleView",
            "_model_name": "DescriptionStyleModel",
            "description_width": "",
            "_view_module": "@jupyter-widgets/base",
            "_model_module_version": "1.5.0",
            "_view_count": null,
            "_view_module_version": "1.2.0",
            "_model_module": "@jupyter-widgets/controls"
          }
        },
        "f4e78318d5fd46399909eecd9a464fc0": {
          "model_module": "@jupyter-widgets/base",
          "model_name": "LayoutModel",
          "model_module_version": "1.2.0",
          "state": {
            "_view_name": "LayoutView",
            "grid_template_rows": null,
            "right": null,
            "justify_content": null,
            "_view_module": "@jupyter-widgets/base",
            "overflow": null,
            "_model_module_version": "1.2.0",
            "_view_count": null,
            "flex_flow": null,
            "width": null,
            "min_width": null,
            "border": null,
            "align_items": null,
            "bottom": null,
            "_model_module": "@jupyter-widgets/base",
            "top": null,
            "grid_column": null,
            "overflow_y": null,
            "overflow_x": null,
            "grid_auto_flow": null,
            "grid_area": null,
            "grid_template_columns": null,
            "flex": null,
            "_model_name": "LayoutModel",
            "justify_items": null,
            "grid_row": null,
            "max_height": null,
            "align_content": null,
            "visibility": null,
            "align_self": null,
            "height": null,
            "min_height": null,
            "padding": null,
            "grid_auto_rows": null,
            "grid_gap": null,
            "max_width": null,
            "order": null,
            "_view_module_version": "1.2.0",
            "grid_template_areas": null,
            "object_position": null,
            "object_fit": null,
            "grid_auto_columns": null,
            "margin": null,
            "display": null,
            "left": null
          }
        },
        "0a8b4648a9ca461481fb2a493972aed3": {
          "model_module": "@jupyter-widgets/controls",
          "model_name": "ProgressStyleModel",
          "model_module_version": "1.5.0",
          "state": {
            "_view_name": "StyleView",
            "_model_name": "ProgressStyleModel",
            "description_width": "",
            "_view_module": "@jupyter-widgets/base",
            "_model_module_version": "1.5.0",
            "_view_count": null,
            "_view_module_version": "1.2.0",
            "bar_color": null,
            "_model_module": "@jupyter-widgets/controls"
          }
        },
        "5ab4c2782c38441091eedac49a19849f": {
          "model_module": "@jupyter-widgets/base",
          "model_name": "LayoutModel",
          "model_module_version": "1.2.0",
          "state": {
            "_view_name": "LayoutView",
            "grid_template_rows": null,
            "right": null,
            "justify_content": null,
            "_view_module": "@jupyter-widgets/base",
            "overflow": null,
            "_model_module_version": "1.2.0",
            "_view_count": null,
            "flex_flow": null,
            "width": null,
            "min_width": null,
            "border": null,
            "align_items": null,
            "bottom": null,
            "_model_module": "@jupyter-widgets/base",
            "top": null,
            "grid_column": null,
            "overflow_y": null,
            "overflow_x": null,
            "grid_auto_flow": null,
            "grid_area": null,
            "grid_template_columns": null,
            "flex": null,
            "_model_name": "LayoutModel",
            "justify_items": null,
            "grid_row": null,
            "max_height": null,
            "align_content": null,
            "visibility": null,
            "align_self": null,
            "height": null,
            "min_height": null,
            "padding": null,
            "grid_auto_rows": null,
            "grid_gap": null,
            "max_width": null,
            "order": null,
            "_view_module_version": "1.2.0",
            "grid_template_areas": null,
            "object_position": null,
            "object_fit": null,
            "grid_auto_columns": null,
            "margin": null,
            "display": null,
            "left": null
          }
        },
        "e07bd406346944f8b912beed2df505ca": {
          "model_module": "@jupyter-widgets/controls",
          "model_name": "DescriptionStyleModel",
          "model_module_version": "1.5.0",
          "state": {
            "_view_name": "StyleView",
            "_model_name": "DescriptionStyleModel",
            "description_width": "",
            "_view_module": "@jupyter-widgets/base",
            "_model_module_version": "1.5.0",
            "_view_count": null,
            "_view_module_version": "1.2.0",
            "_model_module": "@jupyter-widgets/controls"
          }
        },
        "23be42f5a0cc40db816ea8694c9b14ac": {
          "model_module": "@jupyter-widgets/base",
          "model_name": "LayoutModel",
          "model_module_version": "1.2.0",
          "state": {
            "_view_name": "LayoutView",
            "grid_template_rows": null,
            "right": null,
            "justify_content": null,
            "_view_module": "@jupyter-widgets/base",
            "overflow": null,
            "_model_module_version": "1.2.0",
            "_view_count": null,
            "flex_flow": null,
            "width": null,
            "min_width": null,
            "border": null,
            "align_items": null,
            "bottom": null,
            "_model_module": "@jupyter-widgets/base",
            "top": null,
            "grid_column": null,
            "overflow_y": null,
            "overflow_x": null,
            "grid_auto_flow": null,
            "grid_area": null,
            "grid_template_columns": null,
            "flex": null,
            "_model_name": "LayoutModel",
            "justify_items": null,
            "grid_row": null,
            "max_height": null,
            "align_content": null,
            "visibility": null,
            "align_self": null,
            "height": null,
            "min_height": null,
            "padding": null,
            "grid_auto_rows": null,
            "grid_gap": null,
            "max_width": null,
            "order": null,
            "_view_module_version": "1.2.0",
            "grid_template_areas": null,
            "object_position": null,
            "object_fit": null,
            "grid_auto_columns": null,
            "margin": null,
            "display": null,
            "left": null
          }
        },
        "b9248f170c194fe0980a860ef1e39ff9": {
          "model_module": "@jupyter-widgets/controls",
          "model_name": "HBoxModel",
          "model_module_version": "1.5.0",
          "state": {
            "_view_name": "HBoxView",
            "_dom_classes": [],
            "_model_name": "HBoxModel",
            "_view_module": "@jupyter-widgets/controls",
            "_model_module_version": "1.5.0",
            "_view_count": null,
            "_view_module_version": "1.5.0",
            "box_style": "",
            "layout": "IPY_MODEL_985b2b69a6024adabeeda06f922322b0",
            "_model_module": "@jupyter-widgets/controls",
            "children": [
              "IPY_MODEL_71d524f1859e4f48abe6a23adee4bcc8",
              "IPY_MODEL_da4476e139784164bedc300b4ff31640",
              "IPY_MODEL_bedc33c59d03499b9a3773e1b70c4873"
            ]
          }
        },
        "985b2b69a6024adabeeda06f922322b0": {
          "model_module": "@jupyter-widgets/base",
          "model_name": "LayoutModel",
          "model_module_version": "1.2.0",
          "state": {
            "_view_name": "LayoutView",
            "grid_template_rows": null,
            "right": null,
            "justify_content": null,
            "_view_module": "@jupyter-widgets/base",
            "overflow": null,
            "_model_module_version": "1.2.0",
            "_view_count": null,
            "flex_flow": null,
            "width": null,
            "min_width": null,
            "border": null,
            "align_items": null,
            "bottom": null,
            "_model_module": "@jupyter-widgets/base",
            "top": null,
            "grid_column": null,
            "overflow_y": null,
            "overflow_x": null,
            "grid_auto_flow": null,
            "grid_area": null,
            "grid_template_columns": null,
            "flex": null,
            "_model_name": "LayoutModel",
            "justify_items": null,
            "grid_row": null,
            "max_height": null,
            "align_content": null,
            "visibility": null,
            "align_self": null,
            "height": null,
            "min_height": null,
            "padding": null,
            "grid_auto_rows": null,
            "grid_gap": null,
            "max_width": null,
            "order": null,
            "_view_module_version": "1.2.0",
            "grid_template_areas": null,
            "object_position": null,
            "object_fit": null,
            "grid_auto_columns": null,
            "margin": null,
            "display": null,
            "left": null
          }
        },
        "71d524f1859e4f48abe6a23adee4bcc8": {
          "model_module": "@jupyter-widgets/controls",
          "model_name": "HTMLModel",
          "model_module_version": "1.5.0",
          "state": {
            "_view_name": "HTMLView",
            "style": "IPY_MODEL_5a2513e6471e4869b09e35c0289feae9",
            "_dom_classes": [],
            "description": "",
            "_model_name": "HTMLModel",
            "placeholder": "​",
            "_view_module": "@jupyter-widgets/controls",
            "_model_module_version": "1.5.0",
            "value": "",
            "_view_count": null,
            "_view_module_version": "1.5.0",
            "description_tooltip": null,
            "_model_module": "@jupyter-widgets/controls",
            "layout": "IPY_MODEL_061b3132051a43889d6e1ce506c70fe1"
          }
        },
        "da4476e139784164bedc300b4ff31640": {
          "model_module": "@jupyter-widgets/controls",
          "model_name": "FloatProgressModel",
          "model_module_version": "1.5.0",
          "state": {
            "_view_name": "ProgressView",
            "style": "IPY_MODEL_7dd6aecae3b843ee92d68599a3cd7827",
            "_dom_classes": [],
            "description": "",
            "_model_name": "FloatProgressModel",
            "bar_style": "success",
            "max": 28881,
            "_view_module": "@jupyter-widgets/controls",
            "_model_module_version": "1.5.0",
            "value": 28881,
            "_view_count": null,
            "_view_module_version": "1.5.0",
            "orientation": "horizontal",
            "min": 0,
            "description_tooltip": null,
            "_model_module": "@jupyter-widgets/controls",
            "layout": "IPY_MODEL_66d4bfdcf01e4bfa9e6098a73818e661"
          }
        },
        "bedc33c59d03499b9a3773e1b70c4873": {
          "model_module": "@jupyter-widgets/controls",
          "model_name": "HTMLModel",
          "model_module_version": "1.5.0",
          "state": {
            "_view_name": "HTMLView",
            "style": "IPY_MODEL_9d697de6394e41c6a6a6a015a92355bd",
            "_dom_classes": [],
            "description": "",
            "_model_name": "HTMLModel",
            "placeholder": "​",
            "_view_module": "@jupyter-widgets/controls",
            "_model_module_version": "1.5.0",
            "value": " 29696/? [00:00&lt;00:00, 884302.82it/s]",
            "_view_count": null,
            "_view_module_version": "1.5.0",
            "description_tooltip": null,
            "_model_module": "@jupyter-widgets/controls",
            "layout": "IPY_MODEL_d449bba8c04a4662b4d274456dd4fed9"
          }
        },
        "5a2513e6471e4869b09e35c0289feae9": {
          "model_module": "@jupyter-widgets/controls",
          "model_name": "DescriptionStyleModel",
          "model_module_version": "1.5.0",
          "state": {
            "_view_name": "StyleView",
            "_model_name": "DescriptionStyleModel",
            "description_width": "",
            "_view_module": "@jupyter-widgets/base",
            "_model_module_version": "1.5.0",
            "_view_count": null,
            "_view_module_version": "1.2.0",
            "_model_module": "@jupyter-widgets/controls"
          }
        },
        "061b3132051a43889d6e1ce506c70fe1": {
          "model_module": "@jupyter-widgets/base",
          "model_name": "LayoutModel",
          "model_module_version": "1.2.0",
          "state": {
            "_view_name": "LayoutView",
            "grid_template_rows": null,
            "right": null,
            "justify_content": null,
            "_view_module": "@jupyter-widgets/base",
            "overflow": null,
            "_model_module_version": "1.2.0",
            "_view_count": null,
            "flex_flow": null,
            "width": null,
            "min_width": null,
            "border": null,
            "align_items": null,
            "bottom": null,
            "_model_module": "@jupyter-widgets/base",
            "top": null,
            "grid_column": null,
            "overflow_y": null,
            "overflow_x": null,
            "grid_auto_flow": null,
            "grid_area": null,
            "grid_template_columns": null,
            "flex": null,
            "_model_name": "LayoutModel",
            "justify_items": null,
            "grid_row": null,
            "max_height": null,
            "align_content": null,
            "visibility": null,
            "align_self": null,
            "height": null,
            "min_height": null,
            "padding": null,
            "grid_auto_rows": null,
            "grid_gap": null,
            "max_width": null,
            "order": null,
            "_view_module_version": "1.2.0",
            "grid_template_areas": null,
            "object_position": null,
            "object_fit": null,
            "grid_auto_columns": null,
            "margin": null,
            "display": null,
            "left": null
          }
        },
        "7dd6aecae3b843ee92d68599a3cd7827": {
          "model_module": "@jupyter-widgets/controls",
          "model_name": "ProgressStyleModel",
          "model_module_version": "1.5.0",
          "state": {
            "_view_name": "StyleView",
            "_model_name": "ProgressStyleModel",
            "description_width": "",
            "_view_module": "@jupyter-widgets/base",
            "_model_module_version": "1.5.0",
            "_view_count": null,
            "_view_module_version": "1.2.0",
            "bar_color": null,
            "_model_module": "@jupyter-widgets/controls"
          }
        },
        "66d4bfdcf01e4bfa9e6098a73818e661": {
          "model_module": "@jupyter-widgets/base",
          "model_name": "LayoutModel",
          "model_module_version": "1.2.0",
          "state": {
            "_view_name": "LayoutView",
            "grid_template_rows": null,
            "right": null,
            "justify_content": null,
            "_view_module": "@jupyter-widgets/base",
            "overflow": null,
            "_model_module_version": "1.2.0",
            "_view_count": null,
            "flex_flow": null,
            "width": null,
            "min_width": null,
            "border": null,
            "align_items": null,
            "bottom": null,
            "_model_module": "@jupyter-widgets/base",
            "top": null,
            "grid_column": null,
            "overflow_y": null,
            "overflow_x": null,
            "grid_auto_flow": null,
            "grid_area": null,
            "grid_template_columns": null,
            "flex": null,
            "_model_name": "LayoutModel",
            "justify_items": null,
            "grid_row": null,
            "max_height": null,
            "align_content": null,
            "visibility": null,
            "align_self": null,
            "height": null,
            "min_height": null,
            "padding": null,
            "grid_auto_rows": null,
            "grid_gap": null,
            "max_width": null,
            "order": null,
            "_view_module_version": "1.2.0",
            "grid_template_areas": null,
            "object_position": null,
            "object_fit": null,
            "grid_auto_columns": null,
            "margin": null,
            "display": null,
            "left": null
          }
        },
        "9d697de6394e41c6a6a6a015a92355bd": {
          "model_module": "@jupyter-widgets/controls",
          "model_name": "DescriptionStyleModel",
          "model_module_version": "1.5.0",
          "state": {
            "_view_name": "StyleView",
            "_model_name": "DescriptionStyleModel",
            "description_width": "",
            "_view_module": "@jupyter-widgets/base",
            "_model_module_version": "1.5.0",
            "_view_count": null,
            "_view_module_version": "1.2.0",
            "_model_module": "@jupyter-widgets/controls"
          }
        },
        "d449bba8c04a4662b4d274456dd4fed9": {
          "model_module": "@jupyter-widgets/base",
          "model_name": "LayoutModel",
          "model_module_version": "1.2.0",
          "state": {
            "_view_name": "LayoutView",
            "grid_template_rows": null,
            "right": null,
            "justify_content": null,
            "_view_module": "@jupyter-widgets/base",
            "overflow": null,
            "_model_module_version": "1.2.0",
            "_view_count": null,
            "flex_flow": null,
            "width": null,
            "min_width": null,
            "border": null,
            "align_items": null,
            "bottom": null,
            "_model_module": "@jupyter-widgets/base",
            "top": null,
            "grid_column": null,
            "overflow_y": null,
            "overflow_x": null,
            "grid_auto_flow": null,
            "grid_area": null,
            "grid_template_columns": null,
            "flex": null,
            "_model_name": "LayoutModel",
            "justify_items": null,
            "grid_row": null,
            "max_height": null,
            "align_content": null,
            "visibility": null,
            "align_self": null,
            "height": null,
            "min_height": null,
            "padding": null,
            "grid_auto_rows": null,
            "grid_gap": null,
            "max_width": null,
            "order": null,
            "_view_module_version": "1.2.0",
            "grid_template_areas": null,
            "object_position": null,
            "object_fit": null,
            "grid_auto_columns": null,
            "margin": null,
            "display": null,
            "left": null
          }
        },
        "36f094f471854adfaa1e3eaf4888f6a2": {
          "model_module": "@jupyter-widgets/controls",
          "model_name": "HBoxModel",
          "model_module_version": "1.5.0",
          "state": {
            "_view_name": "HBoxView",
            "_dom_classes": [],
            "_model_name": "HBoxModel",
            "_view_module": "@jupyter-widgets/controls",
            "_model_module_version": "1.5.0",
            "_view_count": null,
            "_view_module_version": "1.5.0",
            "box_style": "",
            "layout": "IPY_MODEL_7cca0af0a5ed4413adf5a1a254f38d01",
            "_model_module": "@jupyter-widgets/controls",
            "children": [
              "IPY_MODEL_bdfa885261b34ef4a1181008e6813e47",
              "IPY_MODEL_647a7ec06fd54ef1ba9115a432878641",
              "IPY_MODEL_40be355e9e994fa581c907ad42d33d97"
            ]
          }
        },
        "7cca0af0a5ed4413adf5a1a254f38d01": {
          "model_module": "@jupyter-widgets/base",
          "model_name": "LayoutModel",
          "model_module_version": "1.2.0",
          "state": {
            "_view_name": "LayoutView",
            "grid_template_rows": null,
            "right": null,
            "justify_content": null,
            "_view_module": "@jupyter-widgets/base",
            "overflow": null,
            "_model_module_version": "1.2.0",
            "_view_count": null,
            "flex_flow": null,
            "width": null,
            "min_width": null,
            "border": null,
            "align_items": null,
            "bottom": null,
            "_model_module": "@jupyter-widgets/base",
            "top": null,
            "grid_column": null,
            "overflow_y": null,
            "overflow_x": null,
            "grid_auto_flow": null,
            "grid_area": null,
            "grid_template_columns": null,
            "flex": null,
            "_model_name": "LayoutModel",
            "justify_items": null,
            "grid_row": null,
            "max_height": null,
            "align_content": null,
            "visibility": null,
            "align_self": null,
            "height": null,
            "min_height": null,
            "padding": null,
            "grid_auto_rows": null,
            "grid_gap": null,
            "max_width": null,
            "order": null,
            "_view_module_version": "1.2.0",
            "grid_template_areas": null,
            "object_position": null,
            "object_fit": null,
            "grid_auto_columns": null,
            "margin": null,
            "display": null,
            "left": null
          }
        },
        "bdfa885261b34ef4a1181008e6813e47": {
          "model_module": "@jupyter-widgets/controls",
          "model_name": "HTMLModel",
          "model_module_version": "1.5.0",
          "state": {
            "_view_name": "HTMLView",
            "style": "IPY_MODEL_8b711ee32fac495d97697f4531107921",
            "_dom_classes": [],
            "description": "",
            "_model_name": "HTMLModel",
            "placeholder": "​",
            "_view_module": "@jupyter-widgets/controls",
            "_model_module_version": "1.5.0",
            "value": "",
            "_view_count": null,
            "_view_module_version": "1.5.0",
            "description_tooltip": null,
            "_model_module": "@jupyter-widgets/controls",
            "layout": "IPY_MODEL_cfc1c828d87d4587ad9117a2887fb50e"
          }
        },
        "647a7ec06fd54ef1ba9115a432878641": {
          "model_module": "@jupyter-widgets/controls",
          "model_name": "FloatProgressModel",
          "model_module_version": "1.5.0",
          "state": {
            "_view_name": "ProgressView",
            "style": "IPY_MODEL_483fbeb401984b34a46d22cf16e035fb",
            "_dom_classes": [],
            "description": "",
            "_model_name": "FloatProgressModel",
            "bar_style": "success",
            "max": 1648877,
            "_view_module": "@jupyter-widgets/controls",
            "_model_module_version": "1.5.0",
            "value": 1648877,
            "_view_count": null,
            "_view_module_version": "1.5.0",
            "orientation": "horizontal",
            "min": 0,
            "description_tooltip": null,
            "_model_module": "@jupyter-widgets/controls",
            "layout": "IPY_MODEL_97aaec5f371f4f1d9cab01f3eaaeae31"
          }
        },
        "40be355e9e994fa581c907ad42d33d97": {
          "model_module": "@jupyter-widgets/controls",
          "model_name": "HTMLModel",
          "model_module_version": "1.5.0",
          "state": {
            "_view_name": "HTMLView",
            "style": "IPY_MODEL_05057e0e65504dbe90360b60841d850f",
            "_dom_classes": [],
            "description": "",
            "_model_name": "HTMLModel",
            "placeholder": "​",
            "_view_module": "@jupyter-widgets/controls",
            "_model_module_version": "1.5.0",
            "value": " 1649664/? [00:00&lt;00:00, 4310869.39it/s]",
            "_view_count": null,
            "_view_module_version": "1.5.0",
            "description_tooltip": null,
            "_model_module": "@jupyter-widgets/controls",
            "layout": "IPY_MODEL_449772062a3844c49f94a118e451454e"
          }
        },
        "8b711ee32fac495d97697f4531107921": {
          "model_module": "@jupyter-widgets/controls",
          "model_name": "DescriptionStyleModel",
          "model_module_version": "1.5.0",
          "state": {
            "_view_name": "StyleView",
            "_model_name": "DescriptionStyleModel",
            "description_width": "",
            "_view_module": "@jupyter-widgets/base",
            "_model_module_version": "1.5.0",
            "_view_count": null,
            "_view_module_version": "1.2.0",
            "_model_module": "@jupyter-widgets/controls"
          }
        },
        "cfc1c828d87d4587ad9117a2887fb50e": {
          "model_module": "@jupyter-widgets/base",
          "model_name": "LayoutModel",
          "model_module_version": "1.2.0",
          "state": {
            "_view_name": "LayoutView",
            "grid_template_rows": null,
            "right": null,
            "justify_content": null,
            "_view_module": "@jupyter-widgets/base",
            "overflow": null,
            "_model_module_version": "1.2.0",
            "_view_count": null,
            "flex_flow": null,
            "width": null,
            "min_width": null,
            "border": null,
            "align_items": null,
            "bottom": null,
            "_model_module": "@jupyter-widgets/base",
            "top": null,
            "grid_column": null,
            "overflow_y": null,
            "overflow_x": null,
            "grid_auto_flow": null,
            "grid_area": null,
            "grid_template_columns": null,
            "flex": null,
            "_model_name": "LayoutModel",
            "justify_items": null,
            "grid_row": null,
            "max_height": null,
            "align_content": null,
            "visibility": null,
            "align_self": null,
            "height": null,
            "min_height": null,
            "padding": null,
            "grid_auto_rows": null,
            "grid_gap": null,
            "max_width": null,
            "order": null,
            "_view_module_version": "1.2.0",
            "grid_template_areas": null,
            "object_position": null,
            "object_fit": null,
            "grid_auto_columns": null,
            "margin": null,
            "display": null,
            "left": null
          }
        },
        "483fbeb401984b34a46d22cf16e035fb": {
          "model_module": "@jupyter-widgets/controls",
          "model_name": "ProgressStyleModel",
          "model_module_version": "1.5.0",
          "state": {
            "_view_name": "StyleView",
            "_model_name": "ProgressStyleModel",
            "description_width": "",
            "_view_module": "@jupyter-widgets/base",
            "_model_module_version": "1.5.0",
            "_view_count": null,
            "_view_module_version": "1.2.0",
            "bar_color": null,
            "_model_module": "@jupyter-widgets/controls"
          }
        },
        "97aaec5f371f4f1d9cab01f3eaaeae31": {
          "model_module": "@jupyter-widgets/base",
          "model_name": "LayoutModel",
          "model_module_version": "1.2.0",
          "state": {
            "_view_name": "LayoutView",
            "grid_template_rows": null,
            "right": null,
            "justify_content": null,
            "_view_module": "@jupyter-widgets/base",
            "overflow": null,
            "_model_module_version": "1.2.0",
            "_view_count": null,
            "flex_flow": null,
            "width": null,
            "min_width": null,
            "border": null,
            "align_items": null,
            "bottom": null,
            "_model_module": "@jupyter-widgets/base",
            "top": null,
            "grid_column": null,
            "overflow_y": null,
            "overflow_x": null,
            "grid_auto_flow": null,
            "grid_area": null,
            "grid_template_columns": null,
            "flex": null,
            "_model_name": "LayoutModel",
            "justify_items": null,
            "grid_row": null,
            "max_height": null,
            "align_content": null,
            "visibility": null,
            "align_self": null,
            "height": null,
            "min_height": null,
            "padding": null,
            "grid_auto_rows": null,
            "grid_gap": null,
            "max_width": null,
            "order": null,
            "_view_module_version": "1.2.0",
            "grid_template_areas": null,
            "object_position": null,
            "object_fit": null,
            "grid_auto_columns": null,
            "margin": null,
            "display": null,
            "left": null
          }
        },
        "05057e0e65504dbe90360b60841d850f": {
          "model_module": "@jupyter-widgets/controls",
          "model_name": "DescriptionStyleModel",
          "model_module_version": "1.5.0",
          "state": {
            "_view_name": "StyleView",
            "_model_name": "DescriptionStyleModel",
            "description_width": "",
            "_view_module": "@jupyter-widgets/base",
            "_model_module_version": "1.5.0",
            "_view_count": null,
            "_view_module_version": "1.2.0",
            "_model_module": "@jupyter-widgets/controls"
          }
        },
        "449772062a3844c49f94a118e451454e": {
          "model_module": "@jupyter-widgets/base",
          "model_name": "LayoutModel",
          "model_module_version": "1.2.0",
          "state": {
            "_view_name": "LayoutView",
            "grid_template_rows": null,
            "right": null,
            "justify_content": null,
            "_view_module": "@jupyter-widgets/base",
            "overflow": null,
            "_model_module_version": "1.2.0",
            "_view_count": null,
            "flex_flow": null,
            "width": null,
            "min_width": null,
            "border": null,
            "align_items": null,
            "bottom": null,
            "_model_module": "@jupyter-widgets/base",
            "top": null,
            "grid_column": null,
            "overflow_y": null,
            "overflow_x": null,
            "grid_auto_flow": null,
            "grid_area": null,
            "grid_template_columns": null,
            "flex": null,
            "_model_name": "LayoutModel",
            "justify_items": null,
            "grid_row": null,
            "max_height": null,
            "align_content": null,
            "visibility": null,
            "align_self": null,
            "height": null,
            "min_height": null,
            "padding": null,
            "grid_auto_rows": null,
            "grid_gap": null,
            "max_width": null,
            "order": null,
            "_view_module_version": "1.2.0",
            "grid_template_areas": null,
            "object_position": null,
            "object_fit": null,
            "grid_auto_columns": null,
            "margin": null,
            "display": null,
            "left": null
          }
        },
        "66260eb6c3404b0aa1751d2fdd488849": {
          "model_module": "@jupyter-widgets/controls",
          "model_name": "HBoxModel",
          "model_module_version": "1.5.0",
          "state": {
            "_view_name": "HBoxView",
            "_dom_classes": [],
            "_model_name": "HBoxModel",
            "_view_module": "@jupyter-widgets/controls",
            "_model_module_version": "1.5.0",
            "_view_count": null,
            "_view_module_version": "1.5.0",
            "box_style": "",
            "layout": "IPY_MODEL_2a7dc85ec0054c2d9bfca9494f2e9e99",
            "_model_module": "@jupyter-widgets/controls",
            "children": [
              "IPY_MODEL_86bced2d7e154d33a23849b3ad6fb8e5",
              "IPY_MODEL_7df253cbc89d4c33b84b8d6a7ff55345",
              "IPY_MODEL_0ce1097fc282446dbb3fa0eb7866dabd"
            ]
          }
        },
        "2a7dc85ec0054c2d9bfca9494f2e9e99": {
          "model_module": "@jupyter-widgets/base",
          "model_name": "LayoutModel",
          "model_module_version": "1.2.0",
          "state": {
            "_view_name": "LayoutView",
            "grid_template_rows": null,
            "right": null,
            "justify_content": null,
            "_view_module": "@jupyter-widgets/base",
            "overflow": null,
            "_model_module_version": "1.2.0",
            "_view_count": null,
            "flex_flow": null,
            "width": null,
            "min_width": null,
            "border": null,
            "align_items": null,
            "bottom": null,
            "_model_module": "@jupyter-widgets/base",
            "top": null,
            "grid_column": null,
            "overflow_y": null,
            "overflow_x": null,
            "grid_auto_flow": null,
            "grid_area": null,
            "grid_template_columns": null,
            "flex": null,
            "_model_name": "LayoutModel",
            "justify_items": null,
            "grid_row": null,
            "max_height": null,
            "align_content": null,
            "visibility": null,
            "align_self": null,
            "height": null,
            "min_height": null,
            "padding": null,
            "grid_auto_rows": null,
            "grid_gap": null,
            "max_width": null,
            "order": null,
            "_view_module_version": "1.2.0",
            "grid_template_areas": null,
            "object_position": null,
            "object_fit": null,
            "grid_auto_columns": null,
            "margin": null,
            "display": null,
            "left": null
          }
        },
        "86bced2d7e154d33a23849b3ad6fb8e5": {
          "model_module": "@jupyter-widgets/controls",
          "model_name": "HTMLModel",
          "model_module_version": "1.5.0",
          "state": {
            "_view_name": "HTMLView",
            "style": "IPY_MODEL_cb85f565db4f436db15c7350dd2daaf2",
            "_dom_classes": [],
            "description": "",
            "_model_name": "HTMLModel",
            "placeholder": "​",
            "_view_module": "@jupyter-widgets/controls",
            "_model_module_version": "1.5.0",
            "value": "",
            "_view_count": null,
            "_view_module_version": "1.5.0",
            "description_tooltip": null,
            "_model_module": "@jupyter-widgets/controls",
            "layout": "IPY_MODEL_7a7989bfb0b649e2aa9b1385a9957567"
          }
        },
        "7df253cbc89d4c33b84b8d6a7ff55345": {
          "model_module": "@jupyter-widgets/controls",
          "model_name": "FloatProgressModel",
          "model_module_version": "1.5.0",
          "state": {
            "_view_name": "ProgressView",
            "style": "IPY_MODEL_c3e24ac06daf4d3cb745e5ce0eb4d693",
            "_dom_classes": [],
            "description": "",
            "_model_name": "FloatProgressModel",
            "bar_style": "success",
            "max": 4542,
            "_view_module": "@jupyter-widgets/controls",
            "_model_module_version": "1.5.0",
            "value": 4542,
            "_view_count": null,
            "_view_module_version": "1.5.0",
            "orientation": "horizontal",
            "min": 0,
            "description_tooltip": null,
            "_model_module": "@jupyter-widgets/controls",
            "layout": "IPY_MODEL_880885ffd2d646ab82b6af8558df7989"
          }
        },
        "0ce1097fc282446dbb3fa0eb7866dabd": {
          "model_module": "@jupyter-widgets/controls",
          "model_name": "HTMLModel",
          "model_module_version": "1.5.0",
          "state": {
            "_view_name": "HTMLView",
            "style": "IPY_MODEL_e7e4fbabdcdb40a0919bbc4dcd1dabdc",
            "_dom_classes": [],
            "description": "",
            "_model_name": "HTMLModel",
            "placeholder": "​",
            "_view_module": "@jupyter-widgets/controls",
            "_model_module_version": "1.5.0",
            "value": " 5120/? [00:00&lt;00:00, 157588.03it/s]",
            "_view_count": null,
            "_view_module_version": "1.5.0",
            "description_tooltip": null,
            "_model_module": "@jupyter-widgets/controls",
            "layout": "IPY_MODEL_4b078f8e60464e088dd431669d604622"
          }
        },
        "cb85f565db4f436db15c7350dd2daaf2": {
          "model_module": "@jupyter-widgets/controls",
          "model_name": "DescriptionStyleModel",
          "model_module_version": "1.5.0",
          "state": {
            "_view_name": "StyleView",
            "_model_name": "DescriptionStyleModel",
            "description_width": "",
            "_view_module": "@jupyter-widgets/base",
            "_model_module_version": "1.5.0",
            "_view_count": null,
            "_view_module_version": "1.2.0",
            "_model_module": "@jupyter-widgets/controls"
          }
        },
        "7a7989bfb0b649e2aa9b1385a9957567": {
          "model_module": "@jupyter-widgets/base",
          "model_name": "LayoutModel",
          "model_module_version": "1.2.0",
          "state": {
            "_view_name": "LayoutView",
            "grid_template_rows": null,
            "right": null,
            "justify_content": null,
            "_view_module": "@jupyter-widgets/base",
            "overflow": null,
            "_model_module_version": "1.2.0",
            "_view_count": null,
            "flex_flow": null,
            "width": null,
            "min_width": null,
            "border": null,
            "align_items": null,
            "bottom": null,
            "_model_module": "@jupyter-widgets/base",
            "top": null,
            "grid_column": null,
            "overflow_y": null,
            "overflow_x": null,
            "grid_auto_flow": null,
            "grid_area": null,
            "grid_template_columns": null,
            "flex": null,
            "_model_name": "LayoutModel",
            "justify_items": null,
            "grid_row": null,
            "max_height": null,
            "align_content": null,
            "visibility": null,
            "align_self": null,
            "height": null,
            "min_height": null,
            "padding": null,
            "grid_auto_rows": null,
            "grid_gap": null,
            "max_width": null,
            "order": null,
            "_view_module_version": "1.2.0",
            "grid_template_areas": null,
            "object_position": null,
            "object_fit": null,
            "grid_auto_columns": null,
            "margin": null,
            "display": null,
            "left": null
          }
        },
        "c3e24ac06daf4d3cb745e5ce0eb4d693": {
          "model_module": "@jupyter-widgets/controls",
          "model_name": "ProgressStyleModel",
          "model_module_version": "1.5.0",
          "state": {
            "_view_name": "StyleView",
            "_model_name": "ProgressStyleModel",
            "description_width": "",
            "_view_module": "@jupyter-widgets/base",
            "_model_module_version": "1.5.0",
            "_view_count": null,
            "_view_module_version": "1.2.0",
            "bar_color": null,
            "_model_module": "@jupyter-widgets/controls"
          }
        },
        "880885ffd2d646ab82b6af8558df7989": {
          "model_module": "@jupyter-widgets/base",
          "model_name": "LayoutModel",
          "model_module_version": "1.2.0",
          "state": {
            "_view_name": "LayoutView",
            "grid_template_rows": null,
            "right": null,
            "justify_content": null,
            "_view_module": "@jupyter-widgets/base",
            "overflow": null,
            "_model_module_version": "1.2.0",
            "_view_count": null,
            "flex_flow": null,
            "width": null,
            "min_width": null,
            "border": null,
            "align_items": null,
            "bottom": null,
            "_model_module": "@jupyter-widgets/base",
            "top": null,
            "grid_column": null,
            "overflow_y": null,
            "overflow_x": null,
            "grid_auto_flow": null,
            "grid_area": null,
            "grid_template_columns": null,
            "flex": null,
            "_model_name": "LayoutModel",
            "justify_items": null,
            "grid_row": null,
            "max_height": null,
            "align_content": null,
            "visibility": null,
            "align_self": null,
            "height": null,
            "min_height": null,
            "padding": null,
            "grid_auto_rows": null,
            "grid_gap": null,
            "max_width": null,
            "order": null,
            "_view_module_version": "1.2.0",
            "grid_template_areas": null,
            "object_position": null,
            "object_fit": null,
            "grid_auto_columns": null,
            "margin": null,
            "display": null,
            "left": null
          }
        },
        "e7e4fbabdcdb40a0919bbc4dcd1dabdc": {
          "model_module": "@jupyter-widgets/controls",
          "model_name": "DescriptionStyleModel",
          "model_module_version": "1.5.0",
          "state": {
            "_view_name": "StyleView",
            "_model_name": "DescriptionStyleModel",
            "description_width": "",
            "_view_module": "@jupyter-widgets/base",
            "_model_module_version": "1.5.0",
            "_view_count": null,
            "_view_module_version": "1.2.0",
            "_model_module": "@jupyter-widgets/controls"
          }
        },
        "4b078f8e60464e088dd431669d604622": {
          "model_module": "@jupyter-widgets/base",
          "model_name": "LayoutModel",
          "model_module_version": "1.2.0",
          "state": {
            "_view_name": "LayoutView",
            "grid_template_rows": null,
            "right": null,
            "justify_content": null,
            "_view_module": "@jupyter-widgets/base",
            "overflow": null,
            "_model_module_version": "1.2.0",
            "_view_count": null,
            "flex_flow": null,
            "width": null,
            "min_width": null,
            "border": null,
            "align_items": null,
            "bottom": null,
            "_model_module": "@jupyter-widgets/base",
            "top": null,
            "grid_column": null,
            "overflow_y": null,
            "overflow_x": null,
            "grid_auto_flow": null,
            "grid_area": null,
            "grid_template_columns": null,
            "flex": null,
            "_model_name": "LayoutModel",
            "justify_items": null,
            "grid_row": null,
            "max_height": null,
            "align_content": null,
            "visibility": null,
            "align_self": null,
            "height": null,
            "min_height": null,
            "padding": null,
            "grid_auto_rows": null,
            "grid_gap": null,
            "max_width": null,
            "order": null,
            "_view_module_version": "1.2.0",
            "grid_template_areas": null,
            "object_position": null,
            "object_fit": null,
            "grid_auto_columns": null,
            "margin": null,
            "display": null,
            "left": null
          }
        },
        "b6c75db8f5874638a1bef443ff5597dd": {
          "model_module": "@jupyter-widgets/controls",
          "model_name": "HBoxModel",
          "model_module_version": "1.5.0",
          "state": {
            "_view_name": "HBoxView",
            "_dom_classes": [],
            "_model_name": "HBoxModel",
            "_view_module": "@jupyter-widgets/controls",
            "_model_module_version": "1.5.0",
            "_view_count": null,
            "_view_module_version": "1.5.0",
            "box_style": "",
            "layout": "IPY_MODEL_1573d5bcf3fb46d1b1d7bdda233be8b1",
            "_model_module": "@jupyter-widgets/controls",
            "children": [
              "IPY_MODEL_7b82e30306d140439a3e507d1058a17b",
              "IPY_MODEL_8f7c1c9ad5e64a66ab90de73b118cdce",
              "IPY_MODEL_17ce1f75e1d14057bb18443d3de862a5"
            ]
          }
        },
        "1573d5bcf3fb46d1b1d7bdda233be8b1": {
          "model_module": "@jupyter-widgets/base",
          "model_name": "LayoutModel",
          "model_module_version": "1.2.0",
          "state": {
            "_view_name": "LayoutView",
            "grid_template_rows": null,
            "right": null,
            "justify_content": null,
            "_view_module": "@jupyter-widgets/base",
            "overflow": null,
            "_model_module_version": "1.2.0",
            "_view_count": null,
            "flex_flow": null,
            "width": null,
            "min_width": null,
            "border": null,
            "align_items": null,
            "bottom": null,
            "_model_module": "@jupyter-widgets/base",
            "top": null,
            "grid_column": null,
            "overflow_y": null,
            "overflow_x": null,
            "grid_auto_flow": null,
            "grid_area": null,
            "grid_template_columns": null,
            "flex": null,
            "_model_name": "LayoutModel",
            "justify_items": null,
            "grid_row": null,
            "max_height": null,
            "align_content": null,
            "visibility": null,
            "align_self": null,
            "height": null,
            "min_height": null,
            "padding": null,
            "grid_auto_rows": null,
            "grid_gap": null,
            "max_width": null,
            "order": null,
            "_view_module_version": "1.2.0",
            "grid_template_areas": null,
            "object_position": null,
            "object_fit": null,
            "grid_auto_columns": null,
            "margin": null,
            "display": null,
            "left": null
          }
        },
        "7b82e30306d140439a3e507d1058a17b": {
          "model_module": "@jupyter-widgets/controls",
          "model_name": "HTMLModel",
          "model_module_version": "1.5.0",
          "state": {
            "_view_name": "HTMLView",
            "style": "IPY_MODEL_b3442cdb85b746e8a95ca935eb6d5c21",
            "_dom_classes": [],
            "description": "",
            "_model_name": "HTMLModel",
            "placeholder": "​",
            "_view_module": "@jupyter-widgets/controls",
            "_model_module_version": "1.5.0",
            "value": "",
            "_view_count": null,
            "_view_module_version": "1.5.0",
            "description_tooltip": null,
            "_model_module": "@jupyter-widgets/controls",
            "layout": "IPY_MODEL_dde4c77e6d9e42928d321153bcd3b7d9"
          }
        },
        "8f7c1c9ad5e64a66ab90de73b118cdce": {
          "model_module": "@jupyter-widgets/controls",
          "model_name": "FloatProgressModel",
          "model_module_version": "1.5.0",
          "state": {
            "_view_name": "ProgressView",
            "style": "IPY_MODEL_3b75ee6f4f3b4483890b58f7beed25f2",
            "_dom_classes": [],
            "description": "",
            "_model_name": "FloatProgressModel",
            "bar_style": "success",
            "max": 9912422,
            "_view_module": "@jupyter-widgets/controls",
            "_model_module_version": "1.5.0",
            "value": 9912422,
            "_view_count": null,
            "_view_module_version": "1.5.0",
            "orientation": "horizontal",
            "min": 0,
            "description_tooltip": null,
            "_model_module": "@jupyter-widgets/controls",
            "layout": "IPY_MODEL_841fb60424c145fea59a178f05fb3ff0"
          }
        },
        "17ce1f75e1d14057bb18443d3de862a5": {
          "model_module": "@jupyter-widgets/controls",
          "model_name": "HTMLModel",
          "model_module_version": "1.5.0",
          "state": {
            "_view_name": "HTMLView",
            "style": "IPY_MODEL_95e9ea8af8f74931845f19e167dc7710",
            "_dom_classes": [],
            "description": "",
            "_model_name": "HTMLModel",
            "placeholder": "​",
            "_view_module": "@jupyter-widgets/controls",
            "_model_module_version": "1.5.0",
            "value": " 9913344/? [00:00&lt;00:00, 51882716.08it/s]",
            "_view_count": null,
            "_view_module_version": "1.5.0",
            "description_tooltip": null,
            "_model_module": "@jupyter-widgets/controls",
            "layout": "IPY_MODEL_57ea20c6559c455cbe8f2567fe15cec8"
          }
        },
        "b3442cdb85b746e8a95ca935eb6d5c21": {
          "model_module": "@jupyter-widgets/controls",
          "model_name": "DescriptionStyleModel",
          "model_module_version": "1.5.0",
          "state": {
            "_view_name": "StyleView",
            "_model_name": "DescriptionStyleModel",
            "description_width": "",
            "_view_module": "@jupyter-widgets/base",
            "_model_module_version": "1.5.0",
            "_view_count": null,
            "_view_module_version": "1.2.0",
            "_model_module": "@jupyter-widgets/controls"
          }
        },
        "dde4c77e6d9e42928d321153bcd3b7d9": {
          "model_module": "@jupyter-widgets/base",
          "model_name": "LayoutModel",
          "model_module_version": "1.2.0",
          "state": {
            "_view_name": "LayoutView",
            "grid_template_rows": null,
            "right": null,
            "justify_content": null,
            "_view_module": "@jupyter-widgets/base",
            "overflow": null,
            "_model_module_version": "1.2.0",
            "_view_count": null,
            "flex_flow": null,
            "width": null,
            "min_width": null,
            "border": null,
            "align_items": null,
            "bottom": null,
            "_model_module": "@jupyter-widgets/base",
            "top": null,
            "grid_column": null,
            "overflow_y": null,
            "overflow_x": null,
            "grid_auto_flow": null,
            "grid_area": null,
            "grid_template_columns": null,
            "flex": null,
            "_model_name": "LayoutModel",
            "justify_items": null,
            "grid_row": null,
            "max_height": null,
            "align_content": null,
            "visibility": null,
            "align_self": null,
            "height": null,
            "min_height": null,
            "padding": null,
            "grid_auto_rows": null,
            "grid_gap": null,
            "max_width": null,
            "order": null,
            "_view_module_version": "1.2.0",
            "grid_template_areas": null,
            "object_position": null,
            "object_fit": null,
            "grid_auto_columns": null,
            "margin": null,
            "display": null,
            "left": null
          }
        },
        "3b75ee6f4f3b4483890b58f7beed25f2": {
          "model_module": "@jupyter-widgets/controls",
          "model_name": "ProgressStyleModel",
          "model_module_version": "1.5.0",
          "state": {
            "_view_name": "StyleView",
            "_model_name": "ProgressStyleModel",
            "description_width": "",
            "_view_module": "@jupyter-widgets/base",
            "_model_module_version": "1.5.0",
            "_view_count": null,
            "_view_module_version": "1.2.0",
            "bar_color": null,
            "_model_module": "@jupyter-widgets/controls"
          }
        },
        "841fb60424c145fea59a178f05fb3ff0": {
          "model_module": "@jupyter-widgets/base",
          "model_name": "LayoutModel",
          "model_module_version": "1.2.0",
          "state": {
            "_view_name": "LayoutView",
            "grid_template_rows": null,
            "right": null,
            "justify_content": null,
            "_view_module": "@jupyter-widgets/base",
            "overflow": null,
            "_model_module_version": "1.2.0",
            "_view_count": null,
            "flex_flow": null,
            "width": null,
            "min_width": null,
            "border": null,
            "align_items": null,
            "bottom": null,
            "_model_module": "@jupyter-widgets/base",
            "top": null,
            "grid_column": null,
            "overflow_y": null,
            "overflow_x": null,
            "grid_auto_flow": null,
            "grid_area": null,
            "grid_template_columns": null,
            "flex": null,
            "_model_name": "LayoutModel",
            "justify_items": null,
            "grid_row": null,
            "max_height": null,
            "align_content": null,
            "visibility": null,
            "align_self": null,
            "height": null,
            "min_height": null,
            "padding": null,
            "grid_auto_rows": null,
            "grid_gap": null,
            "max_width": null,
            "order": null,
            "_view_module_version": "1.2.0",
            "grid_template_areas": null,
            "object_position": null,
            "object_fit": null,
            "grid_auto_columns": null,
            "margin": null,
            "display": null,
            "left": null
          }
        },
        "95e9ea8af8f74931845f19e167dc7710": {
          "model_module": "@jupyter-widgets/controls",
          "model_name": "DescriptionStyleModel",
          "model_module_version": "1.5.0",
          "state": {
            "_view_name": "StyleView",
            "_model_name": "DescriptionStyleModel",
            "description_width": "",
            "_view_module": "@jupyter-widgets/base",
            "_model_module_version": "1.5.0",
            "_view_count": null,
            "_view_module_version": "1.2.0",
            "_model_module": "@jupyter-widgets/controls"
          }
        },
        "57ea20c6559c455cbe8f2567fe15cec8": {
          "model_module": "@jupyter-widgets/base",
          "model_name": "LayoutModel",
          "model_module_version": "1.2.0",
          "state": {
            "_view_name": "LayoutView",
            "grid_template_rows": null,
            "right": null,
            "justify_content": null,
            "_view_module": "@jupyter-widgets/base",
            "overflow": null,
            "_model_module_version": "1.2.0",
            "_view_count": null,
            "flex_flow": null,
            "width": null,
            "min_width": null,
            "border": null,
            "align_items": null,
            "bottom": null,
            "_model_module": "@jupyter-widgets/base",
            "top": null,
            "grid_column": null,
            "overflow_y": null,
            "overflow_x": null,
            "grid_auto_flow": null,
            "grid_area": null,
            "grid_template_columns": null,
            "flex": null,
            "_model_name": "LayoutModel",
            "justify_items": null,
            "grid_row": null,
            "max_height": null,
            "align_content": null,
            "visibility": null,
            "align_self": null,
            "height": null,
            "min_height": null,
            "padding": null,
            "grid_auto_rows": null,
            "grid_gap": null,
            "max_width": null,
            "order": null,
            "_view_module_version": "1.2.0",
            "grid_template_areas": null,
            "object_position": null,
            "object_fit": null,
            "grid_auto_columns": null,
            "margin": null,
            "display": null,
            "left": null
          }
        },
        "61bccdc7198940ed9c7555ffadb3d68a": {
          "model_module": "@jupyter-widgets/controls",
          "model_name": "HBoxModel",
          "model_module_version": "1.5.0",
          "state": {
            "_view_name": "HBoxView",
            "_dom_classes": [],
            "_model_name": "HBoxModel",
            "_view_module": "@jupyter-widgets/controls",
            "_model_module_version": "1.5.0",
            "_view_count": null,
            "_view_module_version": "1.5.0",
            "box_style": "",
            "layout": "IPY_MODEL_2f2ff18d9f7b4266b9c6406f35833ffd",
            "_model_module": "@jupyter-widgets/controls",
            "children": [
              "IPY_MODEL_dcd12a6065d94139a315588d5126c6e1",
              "IPY_MODEL_64f36c0e35bc445e86c5d6b85874631b",
              "IPY_MODEL_e14f93845f804ac08780534520de847e"
            ]
          }
        },
        "2f2ff18d9f7b4266b9c6406f35833ffd": {
          "model_module": "@jupyter-widgets/base",
          "model_name": "LayoutModel",
          "model_module_version": "1.2.0",
          "state": {
            "_view_name": "LayoutView",
            "grid_template_rows": null,
            "right": null,
            "justify_content": null,
            "_view_module": "@jupyter-widgets/base",
            "overflow": null,
            "_model_module_version": "1.2.0",
            "_view_count": null,
            "flex_flow": null,
            "width": null,
            "min_width": null,
            "border": null,
            "align_items": null,
            "bottom": null,
            "_model_module": "@jupyter-widgets/base",
            "top": null,
            "grid_column": null,
            "overflow_y": null,
            "overflow_x": null,
            "grid_auto_flow": null,
            "grid_area": null,
            "grid_template_columns": null,
            "flex": null,
            "_model_name": "LayoutModel",
            "justify_items": null,
            "grid_row": null,
            "max_height": null,
            "align_content": null,
            "visibility": null,
            "align_self": null,
            "height": null,
            "min_height": null,
            "padding": null,
            "grid_auto_rows": null,
            "grid_gap": null,
            "max_width": null,
            "order": null,
            "_view_module_version": "1.2.0",
            "grid_template_areas": null,
            "object_position": null,
            "object_fit": null,
            "grid_auto_columns": null,
            "margin": null,
            "display": null,
            "left": null
          }
        },
        "dcd12a6065d94139a315588d5126c6e1": {
          "model_module": "@jupyter-widgets/controls",
          "model_name": "HTMLModel",
          "model_module_version": "1.5.0",
          "state": {
            "_view_name": "HTMLView",
            "style": "IPY_MODEL_1bf55c7aa59a4baa8de708c81051bc34",
            "_dom_classes": [],
            "description": "",
            "_model_name": "HTMLModel",
            "placeholder": "​",
            "_view_module": "@jupyter-widgets/controls",
            "_model_module_version": "1.5.0",
            "value": "",
            "_view_count": null,
            "_view_module_version": "1.5.0",
            "description_tooltip": null,
            "_model_module": "@jupyter-widgets/controls",
            "layout": "IPY_MODEL_a87c921e4cf441d7b54aa3ccb21a59bb"
          }
        },
        "64f36c0e35bc445e86c5d6b85874631b": {
          "model_module": "@jupyter-widgets/controls",
          "model_name": "FloatProgressModel",
          "model_module_version": "1.5.0",
          "state": {
            "_view_name": "ProgressView",
            "style": "IPY_MODEL_791439340af54d5f8a7cf01ab723bff2",
            "_dom_classes": [],
            "description": "",
            "_model_name": "FloatProgressModel",
            "bar_style": "success",
            "max": 28881,
            "_view_module": "@jupyter-widgets/controls",
            "_model_module_version": "1.5.0",
            "value": 28881,
            "_view_count": null,
            "_view_module_version": "1.5.0",
            "orientation": "horizontal",
            "min": 0,
            "description_tooltip": null,
            "_model_module": "@jupyter-widgets/controls",
            "layout": "IPY_MODEL_2336c2ec2a134fef94a3dfddc91cb441"
          }
        },
        "e14f93845f804ac08780534520de847e": {
          "model_module": "@jupyter-widgets/controls",
          "model_name": "HTMLModel",
          "model_module_version": "1.5.0",
          "state": {
            "_view_name": "HTMLView",
            "style": "IPY_MODEL_8748f68f052247aebf4c91e620c0d1b5",
            "_dom_classes": [],
            "description": "",
            "_model_name": "HTMLModel",
            "placeholder": "​",
            "_view_module": "@jupyter-widgets/controls",
            "_model_module_version": "1.5.0",
            "value": " 29696/? [00:00&lt;00:00, 817369.62it/s]",
            "_view_count": null,
            "_view_module_version": "1.5.0",
            "description_tooltip": null,
            "_model_module": "@jupyter-widgets/controls",
            "layout": "IPY_MODEL_3af261e3dc1046449d04247a7fd78034"
          }
        },
        "1bf55c7aa59a4baa8de708c81051bc34": {
          "model_module": "@jupyter-widgets/controls",
          "model_name": "DescriptionStyleModel",
          "model_module_version": "1.5.0",
          "state": {
            "_view_name": "StyleView",
            "_model_name": "DescriptionStyleModel",
            "description_width": "",
            "_view_module": "@jupyter-widgets/base",
            "_model_module_version": "1.5.0",
            "_view_count": null,
            "_view_module_version": "1.2.0",
            "_model_module": "@jupyter-widgets/controls"
          }
        },
        "a87c921e4cf441d7b54aa3ccb21a59bb": {
          "model_module": "@jupyter-widgets/base",
          "model_name": "LayoutModel",
          "model_module_version": "1.2.0",
          "state": {
            "_view_name": "LayoutView",
            "grid_template_rows": null,
            "right": null,
            "justify_content": null,
            "_view_module": "@jupyter-widgets/base",
            "overflow": null,
            "_model_module_version": "1.2.0",
            "_view_count": null,
            "flex_flow": null,
            "width": null,
            "min_width": null,
            "border": null,
            "align_items": null,
            "bottom": null,
            "_model_module": "@jupyter-widgets/base",
            "top": null,
            "grid_column": null,
            "overflow_y": null,
            "overflow_x": null,
            "grid_auto_flow": null,
            "grid_area": null,
            "grid_template_columns": null,
            "flex": null,
            "_model_name": "LayoutModel",
            "justify_items": null,
            "grid_row": null,
            "max_height": null,
            "align_content": null,
            "visibility": null,
            "align_self": null,
            "height": null,
            "min_height": null,
            "padding": null,
            "grid_auto_rows": null,
            "grid_gap": null,
            "max_width": null,
            "order": null,
            "_view_module_version": "1.2.0",
            "grid_template_areas": null,
            "object_position": null,
            "object_fit": null,
            "grid_auto_columns": null,
            "margin": null,
            "display": null,
            "left": null
          }
        },
        "791439340af54d5f8a7cf01ab723bff2": {
          "model_module": "@jupyter-widgets/controls",
          "model_name": "ProgressStyleModel",
          "model_module_version": "1.5.0",
          "state": {
            "_view_name": "StyleView",
            "_model_name": "ProgressStyleModel",
            "description_width": "",
            "_view_module": "@jupyter-widgets/base",
            "_model_module_version": "1.5.0",
            "_view_count": null,
            "_view_module_version": "1.2.0",
            "bar_color": null,
            "_model_module": "@jupyter-widgets/controls"
          }
        },
        "2336c2ec2a134fef94a3dfddc91cb441": {
          "model_module": "@jupyter-widgets/base",
          "model_name": "LayoutModel",
          "model_module_version": "1.2.0",
          "state": {
            "_view_name": "LayoutView",
            "grid_template_rows": null,
            "right": null,
            "justify_content": null,
            "_view_module": "@jupyter-widgets/base",
            "overflow": null,
            "_model_module_version": "1.2.0",
            "_view_count": null,
            "flex_flow": null,
            "width": null,
            "min_width": null,
            "border": null,
            "align_items": null,
            "bottom": null,
            "_model_module": "@jupyter-widgets/base",
            "top": null,
            "grid_column": null,
            "overflow_y": null,
            "overflow_x": null,
            "grid_auto_flow": null,
            "grid_area": null,
            "grid_template_columns": null,
            "flex": null,
            "_model_name": "LayoutModel",
            "justify_items": null,
            "grid_row": null,
            "max_height": null,
            "align_content": null,
            "visibility": null,
            "align_self": null,
            "height": null,
            "min_height": null,
            "padding": null,
            "grid_auto_rows": null,
            "grid_gap": null,
            "max_width": null,
            "order": null,
            "_view_module_version": "1.2.0",
            "grid_template_areas": null,
            "object_position": null,
            "object_fit": null,
            "grid_auto_columns": null,
            "margin": null,
            "display": null,
            "left": null
          }
        },
        "8748f68f052247aebf4c91e620c0d1b5": {
          "model_module": "@jupyter-widgets/controls",
          "model_name": "DescriptionStyleModel",
          "model_module_version": "1.5.0",
          "state": {
            "_view_name": "StyleView",
            "_model_name": "DescriptionStyleModel",
            "description_width": "",
            "_view_module": "@jupyter-widgets/base",
            "_model_module_version": "1.5.0",
            "_view_count": null,
            "_view_module_version": "1.2.0",
            "_model_module": "@jupyter-widgets/controls"
          }
        },
        "3af261e3dc1046449d04247a7fd78034": {
          "model_module": "@jupyter-widgets/base",
          "model_name": "LayoutModel",
          "model_module_version": "1.2.0",
          "state": {
            "_view_name": "LayoutView",
            "grid_template_rows": null,
            "right": null,
            "justify_content": null,
            "_view_module": "@jupyter-widgets/base",
            "overflow": null,
            "_model_module_version": "1.2.0",
            "_view_count": null,
            "flex_flow": null,
            "width": null,
            "min_width": null,
            "border": null,
            "align_items": null,
            "bottom": null,
            "_model_module": "@jupyter-widgets/base",
            "top": null,
            "grid_column": null,
            "overflow_y": null,
            "overflow_x": null,
            "grid_auto_flow": null,
            "grid_area": null,
            "grid_template_columns": null,
            "flex": null,
            "_model_name": "LayoutModel",
            "justify_items": null,
            "grid_row": null,
            "max_height": null,
            "align_content": null,
            "visibility": null,
            "align_self": null,
            "height": null,
            "min_height": null,
            "padding": null,
            "grid_auto_rows": null,
            "grid_gap": null,
            "max_width": null,
            "order": null,
            "_view_module_version": "1.2.0",
            "grid_template_areas": null,
            "object_position": null,
            "object_fit": null,
            "grid_auto_columns": null,
            "margin": null,
            "display": null,
            "left": null
          }
        },
        "60a66db4b0474fa494b1448dbb446ea0": {
          "model_module": "@jupyter-widgets/controls",
          "model_name": "HBoxModel",
          "model_module_version": "1.5.0",
          "state": {
            "_view_name": "HBoxView",
            "_dom_classes": [],
            "_model_name": "HBoxModel",
            "_view_module": "@jupyter-widgets/controls",
            "_model_module_version": "1.5.0",
            "_view_count": null,
            "_view_module_version": "1.5.0",
            "box_style": "",
            "layout": "IPY_MODEL_02b3bc70b27c45a5aa532be19c964930",
            "_model_module": "@jupyter-widgets/controls",
            "children": [
              "IPY_MODEL_26557e766b4a43a3802e1dbfea028fad",
              "IPY_MODEL_940046a4828f4b65b6ac3c6a4d639249",
              "IPY_MODEL_43f2cc65e06543dda3441baa45579f19"
            ]
          }
        },
        "02b3bc70b27c45a5aa532be19c964930": {
          "model_module": "@jupyter-widgets/base",
          "model_name": "LayoutModel",
          "model_module_version": "1.2.0",
          "state": {
            "_view_name": "LayoutView",
            "grid_template_rows": null,
            "right": null,
            "justify_content": null,
            "_view_module": "@jupyter-widgets/base",
            "overflow": null,
            "_model_module_version": "1.2.0",
            "_view_count": null,
            "flex_flow": null,
            "width": null,
            "min_width": null,
            "border": null,
            "align_items": null,
            "bottom": null,
            "_model_module": "@jupyter-widgets/base",
            "top": null,
            "grid_column": null,
            "overflow_y": null,
            "overflow_x": null,
            "grid_auto_flow": null,
            "grid_area": null,
            "grid_template_columns": null,
            "flex": null,
            "_model_name": "LayoutModel",
            "justify_items": null,
            "grid_row": null,
            "max_height": null,
            "align_content": null,
            "visibility": null,
            "align_self": null,
            "height": null,
            "min_height": null,
            "padding": null,
            "grid_auto_rows": null,
            "grid_gap": null,
            "max_width": null,
            "order": null,
            "_view_module_version": "1.2.0",
            "grid_template_areas": null,
            "object_position": null,
            "object_fit": null,
            "grid_auto_columns": null,
            "margin": null,
            "display": null,
            "left": null
          }
        },
        "26557e766b4a43a3802e1dbfea028fad": {
          "model_module": "@jupyter-widgets/controls",
          "model_name": "HTMLModel",
          "model_module_version": "1.5.0",
          "state": {
            "_view_name": "HTMLView",
            "style": "IPY_MODEL_60958cfcad014764881d69d75a8103a5",
            "_dom_classes": [],
            "description": "",
            "_model_name": "HTMLModel",
            "placeholder": "​",
            "_view_module": "@jupyter-widgets/controls",
            "_model_module_version": "1.5.0",
            "value": "",
            "_view_count": null,
            "_view_module_version": "1.5.0",
            "description_tooltip": null,
            "_model_module": "@jupyter-widgets/controls",
            "layout": "IPY_MODEL_d91ba1b551474a3abe12badc988476e9"
          }
        },
        "940046a4828f4b65b6ac3c6a4d639249": {
          "model_module": "@jupyter-widgets/controls",
          "model_name": "FloatProgressModel",
          "model_module_version": "1.5.0",
          "state": {
            "_view_name": "ProgressView",
            "style": "IPY_MODEL_f1aea6ecea63479d9c3ba260849cad28",
            "_dom_classes": [],
            "description": "",
            "_model_name": "FloatProgressModel",
            "bar_style": "success",
            "max": 1648877,
            "_view_module": "@jupyter-widgets/controls",
            "_model_module_version": "1.5.0",
            "value": 1648877,
            "_view_count": null,
            "_view_module_version": "1.5.0",
            "orientation": "horizontal",
            "min": 0,
            "description_tooltip": null,
            "_model_module": "@jupyter-widgets/controls",
            "layout": "IPY_MODEL_67f5a4e516494a5abf462cdb30a58606"
          }
        },
        "43f2cc65e06543dda3441baa45579f19": {
          "model_module": "@jupyter-widgets/controls",
          "model_name": "HTMLModel",
          "model_module_version": "1.5.0",
          "state": {
            "_view_name": "HTMLView",
            "style": "IPY_MODEL_bdb047d139af462e9d49b656571e6c54",
            "_dom_classes": [],
            "description": "",
            "_model_name": "HTMLModel",
            "placeholder": "​",
            "_view_module": "@jupyter-widgets/controls",
            "_model_module_version": "1.5.0",
            "value": " 1649664/? [00:00&lt;00:00, 4556619.66it/s]",
            "_view_count": null,
            "_view_module_version": "1.5.0",
            "description_tooltip": null,
            "_model_module": "@jupyter-widgets/controls",
            "layout": "IPY_MODEL_c095bb4415924042b357989d062db407"
          }
        },
        "60958cfcad014764881d69d75a8103a5": {
          "model_module": "@jupyter-widgets/controls",
          "model_name": "DescriptionStyleModel",
          "model_module_version": "1.5.0",
          "state": {
            "_view_name": "StyleView",
            "_model_name": "DescriptionStyleModel",
            "description_width": "",
            "_view_module": "@jupyter-widgets/base",
            "_model_module_version": "1.5.0",
            "_view_count": null,
            "_view_module_version": "1.2.0",
            "_model_module": "@jupyter-widgets/controls"
          }
        },
        "d91ba1b551474a3abe12badc988476e9": {
          "model_module": "@jupyter-widgets/base",
          "model_name": "LayoutModel",
          "model_module_version": "1.2.0",
          "state": {
            "_view_name": "LayoutView",
            "grid_template_rows": null,
            "right": null,
            "justify_content": null,
            "_view_module": "@jupyter-widgets/base",
            "overflow": null,
            "_model_module_version": "1.2.0",
            "_view_count": null,
            "flex_flow": null,
            "width": null,
            "min_width": null,
            "border": null,
            "align_items": null,
            "bottom": null,
            "_model_module": "@jupyter-widgets/base",
            "top": null,
            "grid_column": null,
            "overflow_y": null,
            "overflow_x": null,
            "grid_auto_flow": null,
            "grid_area": null,
            "grid_template_columns": null,
            "flex": null,
            "_model_name": "LayoutModel",
            "justify_items": null,
            "grid_row": null,
            "max_height": null,
            "align_content": null,
            "visibility": null,
            "align_self": null,
            "height": null,
            "min_height": null,
            "padding": null,
            "grid_auto_rows": null,
            "grid_gap": null,
            "max_width": null,
            "order": null,
            "_view_module_version": "1.2.0",
            "grid_template_areas": null,
            "object_position": null,
            "object_fit": null,
            "grid_auto_columns": null,
            "margin": null,
            "display": null,
            "left": null
          }
        },
        "f1aea6ecea63479d9c3ba260849cad28": {
          "model_module": "@jupyter-widgets/controls",
          "model_name": "ProgressStyleModel",
          "model_module_version": "1.5.0",
          "state": {
            "_view_name": "StyleView",
            "_model_name": "ProgressStyleModel",
            "description_width": "",
            "_view_module": "@jupyter-widgets/base",
            "_model_module_version": "1.5.0",
            "_view_count": null,
            "_view_module_version": "1.2.0",
            "bar_color": null,
            "_model_module": "@jupyter-widgets/controls"
          }
        },
        "67f5a4e516494a5abf462cdb30a58606": {
          "model_module": "@jupyter-widgets/base",
          "model_name": "LayoutModel",
          "model_module_version": "1.2.0",
          "state": {
            "_view_name": "LayoutView",
            "grid_template_rows": null,
            "right": null,
            "justify_content": null,
            "_view_module": "@jupyter-widgets/base",
            "overflow": null,
            "_model_module_version": "1.2.0",
            "_view_count": null,
            "flex_flow": null,
            "width": null,
            "min_width": null,
            "border": null,
            "align_items": null,
            "bottom": null,
            "_model_module": "@jupyter-widgets/base",
            "top": null,
            "grid_column": null,
            "overflow_y": null,
            "overflow_x": null,
            "grid_auto_flow": null,
            "grid_area": null,
            "grid_template_columns": null,
            "flex": null,
            "_model_name": "LayoutModel",
            "justify_items": null,
            "grid_row": null,
            "max_height": null,
            "align_content": null,
            "visibility": null,
            "align_self": null,
            "height": null,
            "min_height": null,
            "padding": null,
            "grid_auto_rows": null,
            "grid_gap": null,
            "max_width": null,
            "order": null,
            "_view_module_version": "1.2.0",
            "grid_template_areas": null,
            "object_position": null,
            "object_fit": null,
            "grid_auto_columns": null,
            "margin": null,
            "display": null,
            "left": null
          }
        },
        "bdb047d139af462e9d49b656571e6c54": {
          "model_module": "@jupyter-widgets/controls",
          "model_name": "DescriptionStyleModel",
          "model_module_version": "1.5.0",
          "state": {
            "_view_name": "StyleView",
            "_model_name": "DescriptionStyleModel",
            "description_width": "",
            "_view_module": "@jupyter-widgets/base",
            "_model_module_version": "1.5.0",
            "_view_count": null,
            "_view_module_version": "1.2.0",
            "_model_module": "@jupyter-widgets/controls"
          }
        },
        "c095bb4415924042b357989d062db407": {
          "model_module": "@jupyter-widgets/base",
          "model_name": "LayoutModel",
          "model_module_version": "1.2.0",
          "state": {
            "_view_name": "LayoutView",
            "grid_template_rows": null,
            "right": null,
            "justify_content": null,
            "_view_module": "@jupyter-widgets/base",
            "overflow": null,
            "_model_module_version": "1.2.0",
            "_view_count": null,
            "flex_flow": null,
            "width": null,
            "min_width": null,
            "border": null,
            "align_items": null,
            "bottom": null,
            "_model_module": "@jupyter-widgets/base",
            "top": null,
            "grid_column": null,
            "overflow_y": null,
            "overflow_x": null,
            "grid_auto_flow": null,
            "grid_area": null,
            "grid_template_columns": null,
            "flex": null,
            "_model_name": "LayoutModel",
            "justify_items": null,
            "grid_row": null,
            "max_height": null,
            "align_content": null,
            "visibility": null,
            "align_self": null,
            "height": null,
            "min_height": null,
            "padding": null,
            "grid_auto_rows": null,
            "grid_gap": null,
            "max_width": null,
            "order": null,
            "_view_module_version": "1.2.0",
            "grid_template_areas": null,
            "object_position": null,
            "object_fit": null,
            "grid_auto_columns": null,
            "margin": null,
            "display": null,
            "left": null
          }
        },
        "0205c578e18142d3bcf683faa2d08caa": {
          "model_module": "@jupyter-widgets/controls",
          "model_name": "HBoxModel",
          "model_module_version": "1.5.0",
          "state": {
            "_view_name": "HBoxView",
            "_dom_classes": [],
            "_model_name": "HBoxModel",
            "_view_module": "@jupyter-widgets/controls",
            "_model_module_version": "1.5.0",
            "_view_count": null,
            "_view_module_version": "1.5.0",
            "box_style": "",
            "layout": "IPY_MODEL_6081e74be19642b0b5cb165e5b4d1f6d",
            "_model_module": "@jupyter-widgets/controls",
            "children": [
              "IPY_MODEL_904ffc9b55c94cb28f29e021e421a0a2",
              "IPY_MODEL_d122f82e3d5b41e792d06a156202a061",
              "IPY_MODEL_4839d862b7fa49b3976fd96d6ab62116"
            ]
          }
        },
        "6081e74be19642b0b5cb165e5b4d1f6d": {
          "model_module": "@jupyter-widgets/base",
          "model_name": "LayoutModel",
          "model_module_version": "1.2.0",
          "state": {
            "_view_name": "LayoutView",
            "grid_template_rows": null,
            "right": null,
            "justify_content": null,
            "_view_module": "@jupyter-widgets/base",
            "overflow": null,
            "_model_module_version": "1.2.0",
            "_view_count": null,
            "flex_flow": null,
            "width": null,
            "min_width": null,
            "border": null,
            "align_items": null,
            "bottom": null,
            "_model_module": "@jupyter-widgets/base",
            "top": null,
            "grid_column": null,
            "overflow_y": null,
            "overflow_x": null,
            "grid_auto_flow": null,
            "grid_area": null,
            "grid_template_columns": null,
            "flex": null,
            "_model_name": "LayoutModel",
            "justify_items": null,
            "grid_row": null,
            "max_height": null,
            "align_content": null,
            "visibility": null,
            "align_self": null,
            "height": null,
            "min_height": null,
            "padding": null,
            "grid_auto_rows": null,
            "grid_gap": null,
            "max_width": null,
            "order": null,
            "_view_module_version": "1.2.0",
            "grid_template_areas": null,
            "object_position": null,
            "object_fit": null,
            "grid_auto_columns": null,
            "margin": null,
            "display": null,
            "left": null
          }
        },
        "904ffc9b55c94cb28f29e021e421a0a2": {
          "model_module": "@jupyter-widgets/controls",
          "model_name": "HTMLModel",
          "model_module_version": "1.5.0",
          "state": {
            "_view_name": "HTMLView",
            "style": "IPY_MODEL_33827b647ead4a3ba04e824e4158ee36",
            "_dom_classes": [],
            "description": "",
            "_model_name": "HTMLModel",
            "placeholder": "​",
            "_view_module": "@jupyter-widgets/controls",
            "_model_module_version": "1.5.0",
            "value": "",
            "_view_count": null,
            "_view_module_version": "1.5.0",
            "description_tooltip": null,
            "_model_module": "@jupyter-widgets/controls",
            "layout": "IPY_MODEL_a2731c88b91548918019ce85928894a5"
          }
        },
        "d122f82e3d5b41e792d06a156202a061": {
          "model_module": "@jupyter-widgets/controls",
          "model_name": "FloatProgressModel",
          "model_module_version": "1.5.0",
          "state": {
            "_view_name": "ProgressView",
            "style": "IPY_MODEL_b55fbeb27f104dfc85094fb484b00427",
            "_dom_classes": [],
            "description": "",
            "_model_name": "FloatProgressModel",
            "bar_style": "success",
            "max": 4542,
            "_view_module": "@jupyter-widgets/controls",
            "_model_module_version": "1.5.0",
            "value": 4542,
            "_view_count": null,
            "_view_module_version": "1.5.0",
            "orientation": "horizontal",
            "min": 0,
            "description_tooltip": null,
            "_model_module": "@jupyter-widgets/controls",
            "layout": "IPY_MODEL_c527f6682d9647f3bf8a36478e923eba"
          }
        },
        "4839d862b7fa49b3976fd96d6ab62116": {
          "model_module": "@jupyter-widgets/controls",
          "model_name": "HTMLModel",
          "model_module_version": "1.5.0",
          "state": {
            "_view_name": "HTMLView",
            "style": "IPY_MODEL_26f913435bb149219b49fe33e7dc97f7",
            "_dom_classes": [],
            "description": "",
            "_model_name": "HTMLModel",
            "placeholder": "​",
            "_view_module": "@jupyter-widgets/controls",
            "_model_module_version": "1.5.0",
            "value": " 5120/? [00:00&lt;00:00, 132211.42it/s]",
            "_view_count": null,
            "_view_module_version": "1.5.0",
            "description_tooltip": null,
            "_model_module": "@jupyter-widgets/controls",
            "layout": "IPY_MODEL_6ce449d1854646288280d9b7354bf172"
          }
        },
        "33827b647ead4a3ba04e824e4158ee36": {
          "model_module": "@jupyter-widgets/controls",
          "model_name": "DescriptionStyleModel",
          "model_module_version": "1.5.0",
          "state": {
            "_view_name": "StyleView",
            "_model_name": "DescriptionStyleModel",
            "description_width": "",
            "_view_module": "@jupyter-widgets/base",
            "_model_module_version": "1.5.0",
            "_view_count": null,
            "_view_module_version": "1.2.0",
            "_model_module": "@jupyter-widgets/controls"
          }
        },
        "a2731c88b91548918019ce85928894a5": {
          "model_module": "@jupyter-widgets/base",
          "model_name": "LayoutModel",
          "model_module_version": "1.2.0",
          "state": {
            "_view_name": "LayoutView",
            "grid_template_rows": null,
            "right": null,
            "justify_content": null,
            "_view_module": "@jupyter-widgets/base",
            "overflow": null,
            "_model_module_version": "1.2.0",
            "_view_count": null,
            "flex_flow": null,
            "width": null,
            "min_width": null,
            "border": null,
            "align_items": null,
            "bottom": null,
            "_model_module": "@jupyter-widgets/base",
            "top": null,
            "grid_column": null,
            "overflow_y": null,
            "overflow_x": null,
            "grid_auto_flow": null,
            "grid_area": null,
            "grid_template_columns": null,
            "flex": null,
            "_model_name": "LayoutModel",
            "justify_items": null,
            "grid_row": null,
            "max_height": null,
            "align_content": null,
            "visibility": null,
            "align_self": null,
            "height": null,
            "min_height": null,
            "padding": null,
            "grid_auto_rows": null,
            "grid_gap": null,
            "max_width": null,
            "order": null,
            "_view_module_version": "1.2.0",
            "grid_template_areas": null,
            "object_position": null,
            "object_fit": null,
            "grid_auto_columns": null,
            "margin": null,
            "display": null,
            "left": null
          }
        },
        "b55fbeb27f104dfc85094fb484b00427": {
          "model_module": "@jupyter-widgets/controls",
          "model_name": "ProgressStyleModel",
          "model_module_version": "1.5.0",
          "state": {
            "_view_name": "StyleView",
            "_model_name": "ProgressStyleModel",
            "description_width": "",
            "_view_module": "@jupyter-widgets/base",
            "_model_module_version": "1.5.0",
            "_view_count": null,
            "_view_module_version": "1.2.0",
            "bar_color": null,
            "_model_module": "@jupyter-widgets/controls"
          }
        },
        "c527f6682d9647f3bf8a36478e923eba": {
          "model_module": "@jupyter-widgets/base",
          "model_name": "LayoutModel",
          "model_module_version": "1.2.0",
          "state": {
            "_view_name": "LayoutView",
            "grid_template_rows": null,
            "right": null,
            "justify_content": null,
            "_view_module": "@jupyter-widgets/base",
            "overflow": null,
            "_model_module_version": "1.2.0",
            "_view_count": null,
            "flex_flow": null,
            "width": null,
            "min_width": null,
            "border": null,
            "align_items": null,
            "bottom": null,
            "_model_module": "@jupyter-widgets/base",
            "top": null,
            "grid_column": null,
            "overflow_y": null,
            "overflow_x": null,
            "grid_auto_flow": null,
            "grid_area": null,
            "grid_template_columns": null,
            "flex": null,
            "_model_name": "LayoutModel",
            "justify_items": null,
            "grid_row": null,
            "max_height": null,
            "align_content": null,
            "visibility": null,
            "align_self": null,
            "height": null,
            "min_height": null,
            "padding": null,
            "grid_auto_rows": null,
            "grid_gap": null,
            "max_width": null,
            "order": null,
            "_view_module_version": "1.2.0",
            "grid_template_areas": null,
            "object_position": null,
            "object_fit": null,
            "grid_auto_columns": null,
            "margin": null,
            "display": null,
            "left": null
          }
        },
        "26f913435bb149219b49fe33e7dc97f7": {
          "model_module": "@jupyter-widgets/controls",
          "model_name": "DescriptionStyleModel",
          "model_module_version": "1.5.0",
          "state": {
            "_view_name": "StyleView",
            "_model_name": "DescriptionStyleModel",
            "description_width": "",
            "_view_module": "@jupyter-widgets/base",
            "_model_module_version": "1.5.0",
            "_view_count": null,
            "_view_module_version": "1.2.0",
            "_model_module": "@jupyter-widgets/controls"
          }
        },
        "6ce449d1854646288280d9b7354bf172": {
          "model_module": "@jupyter-widgets/base",
          "model_name": "LayoutModel",
          "model_module_version": "1.2.0",
          "state": {
            "_view_name": "LayoutView",
            "grid_template_rows": null,
            "right": null,
            "justify_content": null,
            "_view_module": "@jupyter-widgets/base",
            "overflow": null,
            "_model_module_version": "1.2.0",
            "_view_count": null,
            "flex_flow": null,
            "width": null,
            "min_width": null,
            "border": null,
            "align_items": null,
            "bottom": null,
            "_model_module": "@jupyter-widgets/base",
            "top": null,
            "grid_column": null,
            "overflow_y": null,
            "overflow_x": null,
            "grid_auto_flow": null,
            "grid_area": null,
            "grid_template_columns": null,
            "flex": null,
            "_model_name": "LayoutModel",
            "justify_items": null,
            "grid_row": null,
            "max_height": null,
            "align_content": null,
            "visibility": null,
            "align_self": null,
            "height": null,
            "min_height": null,
            "padding": null,
            "grid_auto_rows": null,
            "grid_gap": null,
            "max_width": null,
            "order": null,
            "_view_module_version": "1.2.0",
            "grid_template_areas": null,
            "object_position": null,
            "object_fit": null,
            "grid_auto_columns": null,
            "margin": null,
            "display": null,
            "left": null
          }
        },
        "d8f347bef3594dc09523e4f56541735e": {
          "model_module": "@jupyter-widgets/controls",
          "model_name": "HBoxModel",
          "model_module_version": "1.5.0",
          "state": {
            "_view_name": "HBoxView",
            "_dom_classes": [],
            "_model_name": "HBoxModel",
            "_view_module": "@jupyter-widgets/controls",
            "_model_module_version": "1.5.0",
            "_view_count": null,
            "_view_module_version": "1.5.0",
            "box_style": "",
            "layout": "IPY_MODEL_154f8fbda1e34399ae82e5798e2eb398",
            "_model_module": "@jupyter-widgets/controls",
            "children": [
              "IPY_MODEL_c4714e50777c404193b82b9f741ced92",
              "IPY_MODEL_5e61db8e6d6f44468cc3e68edb9f1017",
              "IPY_MODEL_ca1e2172ee79408bac453df3bd978d7e"
            ]
          }
        },
        "154f8fbda1e34399ae82e5798e2eb398": {
          "model_module": "@jupyter-widgets/base",
          "model_name": "LayoutModel",
          "model_module_version": "1.2.0",
          "state": {
            "_view_name": "LayoutView",
            "grid_template_rows": null,
            "right": null,
            "justify_content": null,
            "_view_module": "@jupyter-widgets/base",
            "overflow": null,
            "_model_module_version": "1.2.0",
            "_view_count": null,
            "flex_flow": null,
            "width": null,
            "min_width": null,
            "border": null,
            "align_items": null,
            "bottom": null,
            "_model_module": "@jupyter-widgets/base",
            "top": null,
            "grid_column": null,
            "overflow_y": null,
            "overflow_x": null,
            "grid_auto_flow": null,
            "grid_area": null,
            "grid_template_columns": null,
            "flex": null,
            "_model_name": "LayoutModel",
            "justify_items": null,
            "grid_row": null,
            "max_height": null,
            "align_content": null,
            "visibility": null,
            "align_self": null,
            "height": null,
            "min_height": null,
            "padding": null,
            "grid_auto_rows": null,
            "grid_gap": null,
            "max_width": null,
            "order": null,
            "_view_module_version": "1.2.0",
            "grid_template_areas": null,
            "object_position": null,
            "object_fit": null,
            "grid_auto_columns": null,
            "margin": null,
            "display": null,
            "left": null
          }
        },
        "c4714e50777c404193b82b9f741ced92": {
          "model_module": "@jupyter-widgets/controls",
          "model_name": "HTMLModel",
          "model_module_version": "1.5.0",
          "state": {
            "_view_name": "HTMLView",
            "style": "IPY_MODEL_e4129c30224346e6b8c7df0be96ad823",
            "_dom_classes": [],
            "description": "",
            "_model_name": "HTMLModel",
            "placeholder": "​",
            "_view_module": "@jupyter-widgets/controls",
            "_model_module_version": "1.5.0",
            "value": "",
            "_view_count": null,
            "_view_module_version": "1.5.0",
            "description_tooltip": null,
            "_model_module": "@jupyter-widgets/controls",
            "layout": "IPY_MODEL_32589b7b0fd54db2b2b5b92475f997a1"
          }
        },
        "5e61db8e6d6f44468cc3e68edb9f1017": {
          "model_module": "@jupyter-widgets/controls",
          "model_name": "FloatProgressModel",
          "model_module_version": "1.5.0",
          "state": {
            "_view_name": "ProgressView",
            "style": "IPY_MODEL_3ce192e8fc7d443583f09d480fb42735",
            "_dom_classes": [],
            "description": "",
            "_model_name": "FloatProgressModel",
            "bar_style": "success",
            "max": 170498071,
            "_view_module": "@jupyter-widgets/controls",
            "_model_module_version": "1.5.0",
            "value": 170498071,
            "_view_count": null,
            "_view_module_version": "1.5.0",
            "orientation": "horizontal",
            "min": 0,
            "description_tooltip": null,
            "_model_module": "@jupyter-widgets/controls",
            "layout": "IPY_MODEL_12550032c085457db748cb740f7a7906"
          }
        },
        "ca1e2172ee79408bac453df3bd978d7e": {
          "model_module": "@jupyter-widgets/controls",
          "model_name": "HTMLModel",
          "model_module_version": "1.5.0",
          "state": {
            "_view_name": "HTMLView",
            "style": "IPY_MODEL_bc34e25773c447ada09833734357b0f1",
            "_dom_classes": [],
            "description": "",
            "_model_name": "HTMLModel",
            "placeholder": "​",
            "_view_module": "@jupyter-widgets/controls",
            "_model_module_version": "1.5.0",
            "value": " 170499072/? [00:03&lt;00:00, 53296708.99it/s]",
            "_view_count": null,
            "_view_module_version": "1.5.0",
            "description_tooltip": null,
            "_model_module": "@jupyter-widgets/controls",
            "layout": "IPY_MODEL_4224a9c1566d4dd89f70308cba816ac8"
          }
        },
        "e4129c30224346e6b8c7df0be96ad823": {
          "model_module": "@jupyter-widgets/controls",
          "model_name": "DescriptionStyleModel",
          "model_module_version": "1.5.0",
          "state": {
            "_view_name": "StyleView",
            "_model_name": "DescriptionStyleModel",
            "description_width": "",
            "_view_module": "@jupyter-widgets/base",
            "_model_module_version": "1.5.0",
            "_view_count": null,
            "_view_module_version": "1.2.0",
            "_model_module": "@jupyter-widgets/controls"
          }
        },
        "32589b7b0fd54db2b2b5b92475f997a1": {
          "model_module": "@jupyter-widgets/base",
          "model_name": "LayoutModel",
          "model_module_version": "1.2.0",
          "state": {
            "_view_name": "LayoutView",
            "grid_template_rows": null,
            "right": null,
            "justify_content": null,
            "_view_module": "@jupyter-widgets/base",
            "overflow": null,
            "_model_module_version": "1.2.0",
            "_view_count": null,
            "flex_flow": null,
            "width": null,
            "min_width": null,
            "border": null,
            "align_items": null,
            "bottom": null,
            "_model_module": "@jupyter-widgets/base",
            "top": null,
            "grid_column": null,
            "overflow_y": null,
            "overflow_x": null,
            "grid_auto_flow": null,
            "grid_area": null,
            "grid_template_columns": null,
            "flex": null,
            "_model_name": "LayoutModel",
            "justify_items": null,
            "grid_row": null,
            "max_height": null,
            "align_content": null,
            "visibility": null,
            "align_self": null,
            "height": null,
            "min_height": null,
            "padding": null,
            "grid_auto_rows": null,
            "grid_gap": null,
            "max_width": null,
            "order": null,
            "_view_module_version": "1.2.0",
            "grid_template_areas": null,
            "object_position": null,
            "object_fit": null,
            "grid_auto_columns": null,
            "margin": null,
            "display": null,
            "left": null
          }
        },
        "3ce192e8fc7d443583f09d480fb42735": {
          "model_module": "@jupyter-widgets/controls",
          "model_name": "ProgressStyleModel",
          "model_module_version": "1.5.0",
          "state": {
            "_view_name": "StyleView",
            "_model_name": "ProgressStyleModel",
            "description_width": "",
            "_view_module": "@jupyter-widgets/base",
            "_model_module_version": "1.5.0",
            "_view_count": null,
            "_view_module_version": "1.2.0",
            "bar_color": null,
            "_model_module": "@jupyter-widgets/controls"
          }
        },
        "12550032c085457db748cb740f7a7906": {
          "model_module": "@jupyter-widgets/base",
          "model_name": "LayoutModel",
          "model_module_version": "1.2.0",
          "state": {
            "_view_name": "LayoutView",
            "grid_template_rows": null,
            "right": null,
            "justify_content": null,
            "_view_module": "@jupyter-widgets/base",
            "overflow": null,
            "_model_module_version": "1.2.0",
            "_view_count": null,
            "flex_flow": null,
            "width": null,
            "min_width": null,
            "border": null,
            "align_items": null,
            "bottom": null,
            "_model_module": "@jupyter-widgets/base",
            "top": null,
            "grid_column": null,
            "overflow_y": null,
            "overflow_x": null,
            "grid_auto_flow": null,
            "grid_area": null,
            "grid_template_columns": null,
            "flex": null,
            "_model_name": "LayoutModel",
            "justify_items": null,
            "grid_row": null,
            "max_height": null,
            "align_content": null,
            "visibility": null,
            "align_self": null,
            "height": null,
            "min_height": null,
            "padding": null,
            "grid_auto_rows": null,
            "grid_gap": null,
            "max_width": null,
            "order": null,
            "_view_module_version": "1.2.0",
            "grid_template_areas": null,
            "object_position": null,
            "object_fit": null,
            "grid_auto_columns": null,
            "margin": null,
            "display": null,
            "left": null
          }
        },
        "bc34e25773c447ada09833734357b0f1": {
          "model_module": "@jupyter-widgets/controls",
          "model_name": "DescriptionStyleModel",
          "model_module_version": "1.5.0",
          "state": {
            "_view_name": "StyleView",
            "_model_name": "DescriptionStyleModel",
            "description_width": "",
            "_view_module": "@jupyter-widgets/base",
            "_model_module_version": "1.5.0",
            "_view_count": null,
            "_view_module_version": "1.2.0",
            "_model_module": "@jupyter-widgets/controls"
          }
        },
        "4224a9c1566d4dd89f70308cba816ac8": {
          "model_module": "@jupyter-widgets/base",
          "model_name": "LayoutModel",
          "model_module_version": "1.2.0",
          "state": {
            "_view_name": "LayoutView",
            "grid_template_rows": null,
            "right": null,
            "justify_content": null,
            "_view_module": "@jupyter-widgets/base",
            "overflow": null,
            "_model_module_version": "1.2.0",
            "_view_count": null,
            "flex_flow": null,
            "width": null,
            "min_width": null,
            "border": null,
            "align_items": null,
            "bottom": null,
            "_model_module": "@jupyter-widgets/base",
            "top": null,
            "grid_column": null,
            "overflow_y": null,
            "overflow_x": null,
            "grid_auto_flow": null,
            "grid_area": null,
            "grid_template_columns": null,
            "flex": null,
            "_model_name": "LayoutModel",
            "justify_items": null,
            "grid_row": null,
            "max_height": null,
            "align_content": null,
            "visibility": null,
            "align_self": null,
            "height": null,
            "min_height": null,
            "padding": null,
            "grid_auto_rows": null,
            "grid_gap": null,
            "max_width": null,
            "order": null,
            "_view_module_version": "1.2.0",
            "grid_template_areas": null,
            "object_position": null,
            "object_fit": null,
            "grid_auto_columns": null,
            "margin": null,
            "display": null,
            "left": null
          }
        }
      }
    },
    "accelerator": "GPU"
  },
  "nbformat": 4,
  "nbformat_minor": 0
}